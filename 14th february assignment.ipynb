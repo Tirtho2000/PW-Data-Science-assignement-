{
 "cells": [
  {
   "cell_type": "markdown",
   "id": "603eb520-c61a-4985-9aa0-b26dbcb2618c",
   "metadata": {},
   "source": [
    "## Q1. What is multithreading in python? Why is it used? Name the module used to handle threads in python."
   ]
  },
  {
   "cell_type": "markdown",
   "id": "392f85f9-1973-4fa1-bfb8-647289230a3b",
   "metadata": {},
   "source": [
    "Multithreading refers to concurrently executing multiple threads by rapidly switching the control of the CPU between threads (called context switching). The Python Global Interpreter Lock limits one thread to run at a time even if the machine contains multiple processors.​"
   ]
  },
  {
   "cell_type": "markdown",
   "id": "f8d27c54-ffde-4b97-accd-ff92a7a3ab06",
   "metadata": {},
   "source": [
    "Multitasking is a computer's ability to execute two or more concurrent programs. Multithreading makes multitasking possible when it breaks programs into smaller, executable threads. Each thread has the programming elements needed to execute the main program, and the computer executes each thread one at a time."
   ]
  },
  {
   "cell_type": "markdown",
   "id": "e21b36de-6681-433f-85ff-2f04e2943871",
   "metadata": {},
   "source": [
    "The Threading Module is used to handle threads in python."
   ]
  },
  {
   "cell_type": "markdown",
   "id": "78f8d58d-aca5-45b3-aa9d-ee36d0df0853",
   "metadata": {},
   "source": [
    "## Q2. Why threading module used? Write the use of the following functions:\n",
    "\n",
    "## 1. activeCount()\n",
    "\n",
    "## 2. currentThread()\n",
    "\n",
    "## 3. enumerate()"
   ]
  },
  {
   "cell_type": "markdown",
   "id": "07beceee-cbae-4808-8d7a-af30fa6085f9",
   "metadata": {},
   "source": [
    "Threading module is used for creating, controlling and managing threads in python."
   ]
  },
  {
   "cell_type": "markdown",
   "id": "e869e645-a539-4211-807d-462bbc1d5ae0",
   "metadata": {},
   "source": [
    "activecount() is an inbuilt method of the threading module in Python. It is used to return the number of Thread objects that are active at any instant. "
   ]
  },
  {
   "cell_type": "markdown",
   "id": "a7525f46-2a93-4982-b2a9-1945753ebfe9",
   "metadata": {},
   "source": [
    "The currentThread() method of thread class is used to return a reference to the currently executing thread object."
   ]
  },
  {
   "cell_type": "markdown",
   "id": "b854c7cd-6928-400f-a930-72a3755992f1",
   "metadata": {},
   "source": [
    "The enumerate() function takes a collection (e.g. a tuple) and returns it as an enumerate object. The enumerate() function adds a counter as the key of the enumerate object."
   ]
  },
  {
   "cell_type": "markdown",
   "id": "8f8c7703-1129-494f-aa3c-887f27766e9e",
   "metadata": {},
   "source": [
    "## Q3. Explain the following functions:\n",
    "\n",
    "## 1. run()\n",
    "\n",
    "## 2. start()\n",
    "\n",
    "## 3. join()\n",
    "\n",
    "## 4. isAlive()"
   ]
  },
  {
   "cell_type": "markdown",
   "id": "8d144b05-b336-4375-963e-42ae9f2c918c",
   "metadata": {},
   "source": [
    "The standard run() method invokes the callable object passed to the object's constructor as the target argument, if any, with positional and keyword arguments taken from the args and kwargs arguments, respectively."
   ]
  },
  {
   "cell_type": "markdown",
   "id": "73d06373-0f7b-4a64-97e4-6da0d91464e6",
   "metadata": {},
   "source": [
    "start() method is an inbuilt method of the Thread class of the threading module in Python. It is used to start a thread's activity. This method calls the run() method internally which then executes the target method. This method must be called at most one time for one thread."
   ]
  },
  {
   "cell_type": "markdown",
   "id": "58d69fe8-1c2b-417c-a394-8f00f22ec942",
   "metadata": {},
   "source": [
    "The join() method takes all items in an iterable and joins them into one string. A string must be specified as the separator."
   ]
  },
  {
   "cell_type": "markdown",
   "id": "af6db1d8-c4e9-47c7-9b08-22c217e675b7",
   "metadata": {},
   "source": [
    "is_alive() method is an inbuilt method of the Thread class of the threading module in Python. It uses a Thread object, and checks whether that thread is alive or not, ie, it is still running or not. This method returns True before the run() starts until just after the run() method is executed."
   ]
  },
  {
   "cell_type": "markdown",
   "id": "bbfc4d47-cd73-4c34-a199-33ff20cd89e1",
   "metadata": {},
   "source": [
    "## Q4. Write a python program to create two threads. Thread one must print the list of squares and thread two must print the list of cubes."
   ]
  },
  {
   "cell_type": "code",
   "execution_count": 1,
   "id": "f095deba-5e92-43d4-be45-5a8d9159c9c5",
   "metadata": {},
   "outputs": [
    {
     "name": "stdout",
     "output_type": "stream",
     "text": [
      " The square of the elements of the list [1, 2, 3, 4, 5] is  [1, 4, 9, 16, 25]\n",
      " The cube of the elements of the list [1, 2, 3, 4, 5] is  [1, 8, 27, 64, 125]\n"
     ]
    }
   ],
   "source": [
    "import threading\n",
    "\n",
    "def squares(numbers):\n",
    "    print(f\" The square of the elements of the list {numbers} is \",list(map(lambda x : x**2 ,numbers)))\n",
    "\n",
    "def cubes(numbers):\n",
    "    print(f\" The cube of the elements of the list {numbers} is \",list(map(lambda x : x**3 ,numbers)))\n",
    "\n",
    "if __name__ == \"__main__\":\n",
    "    numbers = [1, 2, 3, 4, 5]\n",
    "    t1 = threading.Thread(target=squares, args=(numbers,))\n",
    "    t2 = threading.Thread(target=cubes, args=(numbers,))\n",
    "    \n",
    "    t1.start()\n",
    "    t2.start()\n",
    "    t1.join()\n",
    "    t2.join()\n",
    "    "
   ]
  },
  {
   "cell_type": "markdown",
   "id": "b09a1ae5-4e8f-49be-94f3-fcca87f4eaf3",
   "metadata": {},
   "source": [
    "## Q5. State advantages and disadvantages of multithreading."
   ]
  },
  {
   "cell_type": "markdown",
   "id": "9beee9fe-f9ce-4c24-9ae4-d86b42d31360",
   "metadata": {},
   "source": [
    "### Advantages of threads :\n",
    "    \n",
    "1.We can execute multiple tasks of an application at a time\n",
    "\n",
    "2.Reduces the complexity of a big applications\n",
    "\n",
    "3.Helps to improve the performance of an application drastically\n",
    "\n",
    "4.Utilizes the max resources of multiprocessor systems\n",
    "\n",
    "5.Better user interface in case of GUI based applications\n",
    "\n",
    "6.Reduces the development time of an application\n",
    "\n",
    "7.All the threads are independent , any unexpected exception happens in any of the thread will not lead to an application exit.\n",
    "\n",
    "\n",
    "### Disadvantages of threads :\n",
    "    \n",
    "1.Thread synchronization is an extra over head to the developers\n",
    "\n",
    "2.Shares the common data across the threads might cause the data inconsistency or thread sync issues\n",
    "\n",
    "3.Threads blocking for resources is more common problem\n",
    "\n",
    "4.Difficult in managing the code in terms of debugging or writing the code\n"
   ]
  },
  {
   "cell_type": "markdown",
   "id": "0a73552a-ec07-469f-ae41-3a4ccfeef66f",
   "metadata": {},
   "source": [
    "## Q6. Explain deadlocks and race conditions."
   ]
  },
  {
   "cell_type": "markdown",
   "id": "9857bfd9-dde3-48de-be95-4d1d549412f4",
   "metadata": {},
   "source": [
    "deadlock : Two threads hold locks on different resources, each waiting indefinitely for the other to release its lock. \n",
    "\n",
    "race condition : Two (or more) threads alter the state of a shared resource concurrently, leaving it in an unpredictable state."
   ]
  },
  {
   "cell_type": "code",
   "execution_count": null,
   "id": "07f12ceb-640d-4d98-bfa1-124df2a66e94",
   "metadata": {},
   "outputs": [],
   "source": []
  },
  {
   "cell_type": "code",
   "execution_count": null,
   "id": "72a196c3-9a02-4ff6-8804-c1a42fb697cc",
   "metadata": {},
   "outputs": [],
   "source": []
  }
 ],
 "metadata": {
  "kernelspec": {
   "display_name": "Python 3 (ipykernel)",
   "language": "python",
   "name": "python3"
  },
  "language_info": {
   "codemirror_mode": {
    "name": "ipython",
    "version": 3
   },
   "file_extension": ".py",
   "mimetype": "text/x-python",
   "name": "python",
   "nbconvert_exporter": "python",
   "pygments_lexer": "ipython3",
   "version": "3.10.8"
  }
 },
 "nbformat": 4,
 "nbformat_minor": 5
}
