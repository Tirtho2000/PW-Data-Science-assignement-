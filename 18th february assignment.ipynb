{
 "cells": [
  {
   "cell_type": "markdown",
   "id": "25731d0c-9f14-4107-9a65-2e2a1ac2ea8c",
   "metadata": {},
   "source": [
    "## Q1. What is an API? Give an example, where an API is used in real life."
   ]
  },
  {
   "cell_type": "markdown",
   "id": "5c15830c-e835-476e-8c6c-bb1dda66d8d5",
   "metadata": {},
   "source": [
    "API stands for “Application Programming Interface.An application programming interface is a way for two or more computer programs to communicate with each other. It is a type of software interface, offering a service to other pieces of software. A document or standard that describes how to build or use such a connection or interface is called an API specification."
   ]
  },
  {
   "cell_type": "markdown",
   "id": "4c8413ca-7902-4a47-a9a9-f2ebe9693943",
   "metadata": {},
   "source": [
    "For example, the weather bureau's software system contains daily weather data. The weather app on our phone “talks” to this system via APIs and shows us daily weather updates on our phone."
   ]
  },
  {
   "cell_type": "markdown",
   "id": "2badf894-a105-4abd-ba96-1fe36bebcce9",
   "metadata": {},
   "source": [
    "## Q2. Give advantages and disadvantages of using API."
   ]
  },
  {
   "cell_type": "markdown",
   "id": "e15f8bac-5b1a-40a2-8f62-de79f58349a5",
   "metadata": {},
   "source": [
    "Advantage:\n",
    "\n",
    "Efficiency: When you have content that is automatically published and made available on different channels simultaneously, APIs allow for more efficient data distribution. Adaptability: One of the greatest benefits of APIs is the ability it has to adapt to changes through data migration and flexibility of services."
   ]
  },
  {
   "cell_type": "markdown",
   "id": "0d4ba9cb-0f51-4b2b-b356-37cc3815c3de",
   "metadata": {},
   "source": [
    "Disadvantage:\n",
    "\n",
    "APIs are vulnerable to man-in-the-middle attacks, CSRF attacks, XSS attacks, SQL injection, and DDoS attacks."
   ]
  },
  {
   "cell_type": "markdown",
   "id": "2feba338-a34c-439a-bcca-4bd8fd86f61e",
   "metadata": {},
   "source": [
    "## Q3. What is a Web API? Differentiate between API and Web API."
   ]
  },
  {
   "cell_type": "markdown",
   "id": "b184fc95-72ac-4120-a4f9-bd41b2e98c56",
   "metadata": {},
   "source": [
    "A web API is an application programming interface for either a web server or a web browser. It is a web development concept, usually limited to a web application's client-side (including any web frameworks being used), and thus usually does not include web server or browser implementation details such as SAPIs or APIs unless publicly accessible by a remote web application."
   ]
  },
  {
   "cell_type": "markdown",
   "id": "3ad1e148-fdda-457e-9ed3-154d4941ed50",
   "metadata": {},
   "source": [
    "Both APIs and web services are technologies that enable the transfer of data between separate software applications. API is an interface that exposes an application's data to outside software, whereas web applications are one type of API with stricter requirements."
   ]
  },
  {
   "cell_type": "markdown",
   "id": "f64c5dd3-fd21-4b1e-a797-2e003c89ec1e",
   "metadata": {},
   "source": [
    "## Q4. Explain REST and SOAP Architecture. Mention shortcomings of SOAP."
   ]
  },
  {
   "cell_type": "markdown",
   "id": "232339ec-6160-480a-b7a3-32609d7a67c7",
   "metadata": {},
   "source": [
    "### REST: representational state transfer\n",
    "REST is a set of architectural principles attuned to the needs of lightweight web services and mobile applications. Because it's a set of guidelines, it leaves the implementation of these recommendations to developers.\n",
    "\n",
    "When a request for data is sent to a REST API, it’s usually done through hypertext transfer protocol (commonly referred to as HTTP). Once a request is received, APIs designed for REST (called RESTful APIs or RESTful web services) can return messages in a variety of formats: HTML, XML, plain text, and JSON. JSON (JavaScript object notation) is favored as a message format because it can be read by any programming language (despite the name), is human- and machine-readable, and is lightweight. In this way, RESTful APIs are more flexible and can be easier to set up.\n",
    "\n",
    "An application is said to be RESTful if it follows 6 architectural guidelines. A RESTful application must have:\n",
    "\n",
    "1.A client-server architecture composed of clients, servers, and resources.\n",
    "\n",
    "2.Stateless client-server communication, meaning no client content is stored on the server between requests. Information about the session’s state is instead held with the client.\n",
    "\n",
    "3.Cacheable data to eliminate the need for some client-server interactions.\n",
    "\n",
    "4.A uniform interface between components so that information is transferred in a standardized form instead of specific to an application’s needs. This is described by Roy Fielding, the originator of REST, as “the central feature that distinguishes the REST architectural style from other network-based styles.”\n",
    "\n",
    "5.A layered system constraint, where client-server interactions can be mediated by hierarchical layers.\n",
    "\n",
    "6.Code on demand, allowing servers to extend the functionality of a client by transferring executable code (though also reducing visibility, making this an optional guideline).\n"
   ]
  },
  {
   "cell_type": "markdown",
   "id": "f1436563-a0de-496d-89c7-64171389ec87",
   "metadata": {},
   "source": [
    "### SOAP: simple object access protocol\n",
    "SOAP is a standard protocol that was first designed so that applications built with different languages and on different platforms could communicate. Because it is a protocol, it imposes built-in rules that increase its complexity and overhead, which can lead to longer page load times. However, these standards also offer built-in compliances that can make it preferable for enterprise scenarios. The built-in compliance standards include security, atomicity, consistency, isolation, and durability (ACID), which is a set of properties for ensuring reliable database transactions.\n",
    "\n",
    "Common web service specifications include:\n",
    "\n",
    "Web services security (WS-security): Standardizes how messages are secured and transferred through unique identifiers called tokens.\n",
    "\n",
    "#### WS-ReliableMessaging: \n",
    "Standardizes error handling between messages transferred across unreliable IT infrastructure.\n",
    "\n",
    "#### Web services addressing (WS-addressing): \n",
    "Packages routing information as metadata within SOAP headers, instead of maintaining such information deeper within the network.\n",
    "\n",
    "#### Web services description language (WSDL): \n",
    "Describes what a web service does, and where that service begins and ends.\n",
    "\n",
    "When a request for data is sent to a SOAP API, it can be handled through any of the application layer protocols: HTTP (for web browsers), SMTP (for email), TCP, and others. However, once a request is received, return SOAP messages must be returned as XML documents—a markup language that is both human- and machine-readable. A completed request to a SOAP API is not cacheable by a browser, so it cannot be accessed later without resending to the API."
   ]
  },
  {
   "cell_type": "markdown",
   "id": "991fe043-3fd1-4b9d-b31a-c72a1a96d73a",
   "metadata": {},
   "source": [
    "## Q5. Differentiate between REST and SOAP."
   ]
  },
  {
   "cell_type": "markdown",
   "id": "05819734-92b3-4a14-81da-e23e663bba9c",
   "metadata": {},
   "source": [
    "REST and SOAP are 2 different approaches to online data transmission. Specifically, both define how to build application programming interfaces (APIs), which allow data to be communicated between web applications. Representational state transfer (REST) is a set of architectural principles.The main difference is that SOAP is a protocol while REST is not. Typically, an API will adhere to either REST or SOAP, depending on the use case and preferences of the developer.Many legacy systems may still adhere to SOAP, while REST came later and is often viewed as a faster alternative in web-based scenarios. REST is a set of guidelines that offers flexible implementation, whereas SOAP is a protocol with specific requirements like XML messaging.\n",
    "\n",
    "REST APIs are lightweight, making them ideal for newer contexts like the Internet of Things (IoT), mobile application development, and serverless computing. SOAP web services offer built-in security and transaction compliance that align with many enterprise needs, but that also makes them heavier. Additionally, many public APIs, like the Google Maps API, follow the REST guidelines."
   ]
  },
  {
   "cell_type": "code",
   "execution_count": null,
   "id": "d63ac2d3-f8de-4cce-9ebe-b0e59a826f29",
   "metadata": {},
   "outputs": [],
   "source": []
  }
 ],
 "metadata": {
  "kernelspec": {
   "display_name": "Python 3 (ipykernel)",
   "language": "python",
   "name": "python3"
  },
  "language_info": {
   "codemirror_mode": {
    "name": "ipython",
    "version": 3
   },
   "file_extension": ".py",
   "mimetype": "text/x-python",
   "name": "python",
   "nbconvert_exporter": "python",
   "pygments_lexer": "ipython3",
   "version": "3.10.8"
  }
 },
 "nbformat": 4,
 "nbformat_minor": 5
}
