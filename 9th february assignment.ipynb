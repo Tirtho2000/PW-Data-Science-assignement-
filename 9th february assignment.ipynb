{
 "cells": [
  {
   "cell_type": "markdown",
   "id": "629c9c3a-7cbe-456a-8afc-308e2cdfaf7e",
   "metadata": {},
   "source": [
    "## Q1, Create a vehicle class with an init method having instance variables as name_of_vehicle, max_speed and average_of_vehicle."
   ]
  },
  {
   "cell_type": "code",
   "execution_count": 32,
   "id": "112ecc2c-ee05-49a6-814d-7315622fba6c",
   "metadata": {},
   "outputs": [],
   "source": [
    "class vehicle:\n",
    "    def __init__(self, name_of_vehicle, max_speed, average_of_vehicle):\n",
    "        self.name_of_vehicle = name_of_vehicle\n",
    "        self.max_speed = max_speed\n",
    "        self.average_of_vehicle = average_of_vehicle\n",
    "    def vehicle_details(self):\n",
    "        return f\"{self.name_of_vehicle,self.max_speed,self.average_of_vehicle}\""
   ]
  },
  {
   "cell_type": "code",
   "execution_count": 31,
   "id": "05dc4b0b-f1c7-4fd7-a459-35e326749cbb",
   "metadata": {},
   "outputs": [
    {
     "name": "stdout",
     "output_type": "stream",
     "text": [
      "('Toyota', 34, 45)\n"
     ]
    }
   ],
   "source": [
    "a = vehicle(\"Toyota\",34,45)\n",
    "print(a.vehicle_details())\n"
   ]
  },
  {
   "cell_type": "markdown",
   "id": "372c9bf2-11fc-4c92-9870-90794be018a7",
   "metadata": {},
   "source": [
    "## Q2. Create a child class car from the vehicle class created in Que 1, which will inherit the vehicle class.Create a method named seating_capacity which takes capacity as an argument and returns the name of the vehicle and its seating capacity."
   ]
  },
  {
   "cell_type": "code",
   "execution_count": 7,
   "id": "2972cdd7-6dc0-426a-b864-b6ea76ac303f",
   "metadata": {},
   "outputs": [
    {
     "name": "stdout",
     "output_type": "stream",
     "text": [
      "Toyota has a seating capacity of 5.\n"
     ]
    }
   ],
   "source": [
    "class Car(Vehicle):\n",
    "    def seating_capacity(self, capacity):\n",
    "        return f\"{self.name_of_vehicle} has a seating capacity of {capacity}.\"\n",
    "\n",
    "my_car = Car(\"Toyota\", 200, 10)\n",
    "print(my_car.seating_capacity(5))"
   ]
  },
  {
   "cell_type": "markdown",
   "id": "9aff8ee7-7ed2-4a86-9d23-822545ca0946",
   "metadata": {},
   "source": [
    "## Q3. What is multiple inheritance? Write a python code to demonstrate multiple inheritance."
   ]
  },
  {
   "cell_type": "markdown",
   "id": "b0ca41ea-6acc-4024-8892-4ddab7122961",
   "metadata": {},
   "source": [
    "Multiple Inheritance \n",
    "When a class is derived from more than one base class it is called multiple Inheritance. The derived class inherits all the features of the base case."
   ]
  },
  {
   "cell_type": "code",
   "execution_count": 33,
   "id": "740fda71-2b78-4094-907e-995051ca5a3f",
   "metadata": {},
   "outputs": [
    {
     "name": "stdout",
     "output_type": "stream",
     "text": [
      "This is class A.\n",
      "This is class B.\n",
      "This is class C which inherits features of both classes A and B.\n"
     ]
    }
   ],
   "source": [
    "class A:\n",
    "    def A(self):\n",
    "        print('This is class A.')        \n",
    "class B:\n",
    "    def B(self):\n",
    "        print('This is class B.')        \n",
    "class C(A,B):\n",
    "    def C(self):\n",
    "        print('This is class C which inherits features of both classes A and B.')\n",
    "o = C()\n",
    "o.A()\n",
    "o.B()\n",
    "o.C()"
   ]
  },
  {
   "cell_type": "markdown",
   "id": "9cb7025a-9116-41f0-ab80-831e871676f6",
   "metadata": {},
   "source": [
    "## Q4. What are getter and setter in python? Create a class and create a getter and a setter method in this class."
   ]
  },
  {
   "cell_type": "markdown",
   "id": "59c7dc5b-a344-420d-bf3b-75d8372c0667",
   "metadata": {},
   "source": [
    "Getter: A method that allows you to access an attribute in a given class.\n",
    "\n",
    "Setter: A method that allows you to set or mutate the value of an attribute in a class."
   ]
  },
  {
   "cell_type": "code",
   "execution_count": 43,
   "id": "a2fd0cc9-999e-4390-a72f-63f41df184d2",
   "metadata": {},
   "outputs": [
    {
     "name": "stdout",
     "output_type": "stream",
     "text": [
      "Age is  21\n",
      "21\n",
      "21\n"
     ]
    }
   ],
   "source": [
    "# Python program showing a use of get() and set() method in\n",
    "class get_set:\n",
    "    def __init__(self, age = 0):\n",
    "        self._age = age\n",
    "\n",
    "    # getter method\n",
    "    def get_age(self):\n",
    "        return self._age\n",
    "\n",
    "    # setter method\n",
    "    def set_age(self, x):\n",
    "        if x>=0:    \n",
    "            self._age = x\n",
    "            print(\"Age is \",x)\n",
    "        else:\n",
    "            print(\"Age can not be negative\")\n",
    "\n",
    "raj = get_set()\n",
    "\n",
    "# setting the age using setter\n",
    "raj.set_age(21)\n",
    "\n",
    "# retrieving age using getter\n",
    "print(raj.get_age())\n",
    "\n",
    "print(raj._age)\n"
   ]
  },
  {
   "cell_type": "markdown",
   "id": "2380ff36-9d25-4d2f-8e69-f64a993e64b3",
   "metadata": {},
   "source": [
    "## Q5.What is method overriding in python? Write a python code to demonstrate method overriding."
   ]
  },
  {
   "cell_type": "markdown",
   "id": "34d5038d-3f3a-47ce-a896-8d1203bbd267",
   "metadata": {},
   "source": [
    "Method overriding is a feature of object-oriented programming languages where the subclass or child class can provide the program with specific characteristics or a specific implementation process of data provided that are already defined in the parent class or superclass.This is an important feature of inheritance in Python. In method overriding, the child class can change its functions that are defined by its ancestral classes."
   ]
  },
  {
   "cell_type": "code",
   "execution_count": 44,
   "id": "6046f827-4d4a-42c2-a38b-53786e7ff5e6",
   "metadata": {},
   "outputs": [
    {
     "name": "stdout",
     "output_type": "stream",
     "text": [
      "The method Walk here is overridden in the code\n",
      "Hello, I am the child class\n",
      "Hello, I am the parent class\n"
     ]
    }
   ],
   "source": [
    "class Animal:\n",
    "    def Walk(self):\n",
    "        print('Hello, I am the parent class')\n",
    "\n",
    "class Dog(Animal):\n",
    "    def Walk(self):\n",
    "        print('Hello, I am the child class')\n",
    "        \n",
    "print('The method Walk here is overridden in the code')\n",
    "\n",
    "#Invoking Child class through object r\n",
    "\n",
    "r = Dog()\n",
    "r.Walk()\n",
    "\n",
    "#Invoking Parent class through object r\n",
    "\n",
    "r = Animal()\n",
    "r.Walk()"
   ]
  },
  {
   "cell_type": "code",
   "execution_count": null,
   "id": "7dc3c6b2-e6f7-45b9-8011-342e59bd610d",
   "metadata": {},
   "outputs": [],
   "source": []
  },
  {
   "cell_type": "code",
   "execution_count": null,
   "id": "7d91c4fe-f5cb-4a01-bb32-0634414b3c8c",
   "metadata": {},
   "outputs": [],
   "source": []
  }
 ],
 "metadata": {
  "kernelspec": {
   "display_name": "Python 3 (ipykernel)",
   "language": "python",
   "name": "python3"
  },
  "language_info": {
   "codemirror_mode": {
    "name": "ipython",
    "version": 3
   },
   "file_extension": ".py",
   "mimetype": "text/x-python",
   "name": "python",
   "nbconvert_exporter": "python",
   "pygments_lexer": "ipython3",
   "version": "3.10.8"
  }
 },
 "nbformat": 4,
 "nbformat_minor": 5
}
