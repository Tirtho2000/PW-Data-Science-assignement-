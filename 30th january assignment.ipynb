{
 "cells": [
  {
   "cell_type": "markdown",
   "id": "df9193a4-91c9-4f5d-bc09-b293b51bb07e",
   "metadata": {},
   "source": [
    "## 1. Write a program to accept percentage from the user and display the grade according to the following criteria:\n",
    "\n",
    "    Marks           Grade\n",
    "\n",
    "    >90                A\n",
    "\n",
    "    >80 and <=90       B\n",
    "\n",
    "    >=60 and <=80      C\n",
    "\n",
    "    below 60           D"
   ]
  },
  {
   "cell_type": "code",
   "execution_count": 9,
   "id": "c0140e6b-4f54-4a6e-a120-d2e075e6c2e4",
   "metadata": {},
   "outputs": [
    {
     "name": "stdin",
     "output_type": "stream",
     "text": [
      "Enter the number in percentage  585\n"
     ]
    },
    {
     "name": "stdout",
     "output_type": "stream",
     "text": [
      "Enter valid percentage of marks\n"
     ]
    }
   ],
   "source": [
    "perc = int(input(\"Enter the number in percentage \"))\n",
    "if perc > 90 and perc<=100:\n",
    "    print(\"You get {} % and your grade is {}\".format(perc,\"A\"))\n",
    "elif perc>80 and perc<=90:\n",
    "    print(\"You get {} % and your grade is {}\".format(perc,\"B\"))\n",
    "elif perc>=60 and perc<=80:\n",
    "    print(\"You get {} % and your grade is {}\".format(perc,\"C\"))\n",
    "elif perc>0 and perc<60:\n",
    "    print(\"You get {} % and your grade is {}\".format(perc,\"D\"))\n",
    "else:\n",
    "    print(\"Enter valid percentage of marks\")"
   ]
  },
  {
   "cell_type": "markdown",
   "id": "b756e6c8-3971-4c7f-81f1-9f610effdc6a",
   "metadata": {},
   "source": [
    "## 2. Write a program to accept the cost price of a bike and display the road tax to be paid according to the following criteria:\n",
    "\n",
    "    Tax             Cost Price(in Rs)\n",
    "\n",
    "    15%                    100000\n",
    "\n",
    "    10%            >50000 and <= 100000\n",
    "\n",
    "    5%                   <= 50000\n",
    "\n"
   ]
  },
  {
   "cell_type": "code",
   "execution_count": 2,
   "id": "5fda4c64-0363-442b-b9ed-8e9236564c46",
   "metadata": {},
   "outputs": [
    {
     "name": "stdin",
     "output_type": "stream",
     "text": [
      "Enter the cost price of the bike  55\n"
     ]
    },
    {
     "name": "stdout",
     "output_type": "stream",
     "text": [
      "The cost is Rs. 55 and you have to pay 5 % road tax\n",
      "You have to pay Rs. 2.75 as the road tax\n"
     ]
    }
   ],
   "source": [
    "cost_price=int(input(\"Enter the cost price of the bike \"))\n",
    "if cost_price >100000:\n",
    "    print(\"The cost is Rs. {} and you have to pay {} % road tax\".format(cost_price,15))\n",
    "    print(\"You have to pay Rs. {} as the road tax\".format(.15*cost_price))\n",
    "elif cost_price>50000 and cost_price<=100000:\n",
    "    print(\"The cost is Rs. {} and you have to pay {} % road tax\".format(cost_price,10))\n",
    "    print(\"You have to pay Rs. {} as the road tax\".format(.10*cost_price))\n",
    "elif  cost_price >0 and cost_price<=50000:\n",
    "    print(\"The cost is Rs. {} and you have to pay {} % road tax\".format(cost_price,5))\n",
    "    print(\"You have to pay Rs. {} as the road tax\".format(.05*cost_price))\n",
    "else:\n",
    "    print(\"Please enter valid price of the bike\")"
   ]
  },
  {
   "cell_type": "markdown",
   "id": "3ad1ca8d-590a-438e-a193-a6eb11bc066e",
   "metadata": {},
   "source": [
    "## 3. Accept any city from the user and display monuments of that city.\n",
    "\n",
    "    City                 Monument\n",
    "\n",
    "    Delhi                Red Fort\n",
    "\n",
    "    Agra                 Taj Mahal\n",
    "\n",
    "    Jaipur               Jal Mahal"
   ]
  },
  {
   "cell_type": "code",
   "execution_count": 6,
   "id": "afa10b68-601b-47f6-996f-56e5f1f3e017",
   "metadata": {},
   "outputs": [
    {
     "name": "stdin",
     "output_type": "stream",
     "text": [
      "Enter any city between Delhi,Agra,Jaipur  agra\n"
     ]
    },
    {
     "name": "stdout",
     "output_type": "stream",
     "text": [
      "The monument of city Agra is Taj Mahal\n"
     ]
    }
   ],
   "source": [
    "city= input(\"Enter any city between Delhi,Agra,Jaipur \")\n",
    "city1=city.title()\n",
    "if city1==\"Delhi\":\n",
    "    print(\"The monument of city {} is {}\".format(city1,\"Red Fort\"))\n",
    "elif city1==\"Agra\":\n",
    "    print(\"The monument of city {} is {}\".format(city1,\"Taj Mahal\"))\n",
    "elif city1==\"Jaipur\":\n",
    "    print(\"The monument of city {} is {}\".format(city1,\"Jal Mahal\"))\n",
    "else:\n",
    "    print(\"Please enter valid city name between Agra,Delhi,Jaipur\")"
   ]
  },
  {
   "cell_type": "markdown",
   "id": "ed83b4e9-2f22-4cef-9d19-70ec97f3ec28",
   "metadata": {},
   "source": [
    "## 4. Check how many times a given number can be divided by 3 before it is less than or equal to 10."
   ]
  },
  {
   "cell_type": "code",
   "execution_count": 5,
   "id": "99fc42ac-72c7-47a3-a638-9a95d787421a",
   "metadata": {},
   "outputs": [
    {
     "name": "stdin",
     "output_type": "stream",
     "text": [
      "Enter the number  55\n"
     ]
    },
    {
     "name": "stdout",
     "output_type": "stream",
     "text": [
      "2\n"
     ]
    }
   ],
   "source": [
    "n= int(input(\"Enter the number \"))\n",
    "def division_by_3(n):\n",
    "    count = 0\n",
    "    while n >= 10:\n",
    "        n = n / 3\n",
    "        count += 1\n",
    "    return count\n",
    "print(division_by_3(n))\n"
   ]
  },
  {
   "cell_type": "markdown",
   "id": "3f0571d0-36e7-415a-8617-5e45157482c0",
   "metadata": {},
   "source": [
    "## 5. Why and When to Use while Loop in Python give a detailed description with example"
   ]
  },
  {
   "cell_type": "markdown",
   "id": "c56c9224-cf70-4366-b8f3-6630fadb8910",
   "metadata": {},
   "source": [
    "A while loop is used in programming to repeatedly execute a block of code as long as a given condition is true. The condition is tested at the beginning of each iteration and if the condition evaluates to True, the code inside the loop is executed. This continues until the condition evaluates to False, at which point the loop terminates.\n",
    "\n",
    "Use a while loop when you want to repeat a certain block of code as long as a certain condition is met. This is useful when you don't know beforehand how many times the loop needs to be executed, as the loop will continue as long as the condition is True."
   ]
  },
  {
   "cell_type": "markdown",
   "id": "9804187b-6540-4a0c-98c3-f9878148f685",
   "metadata": {},
   "source": [
    "If we know a specific number, such as 32, we can say 5 times, but for a given symbolic variable \"NUMBER\" which represents any number in the world, how many times is not known a priori (before hand). In this case, we could use a while loop to determine that answer:\n",
    " get our number\n",
    "                set our initial count to 0\n",
    "                while our number is greater than 1\n",
    "                  divide the number by 2\n",
    "                  increase our count by 1\n",
    "                end"
   ]
  },
  {
   "cell_type": "markdown",
   "id": "5d37b0ca-d179-49e2-be39-4507dce6909b",
   "metadata": {},
   "source": [
    "## 6. Use nested while loop to print 3 different pattern."
   ]
  },
  {
   "cell_type": "code",
   "execution_count": 1,
   "id": "41e0bff5-56a1-4bb1-9d47-399af9959761",
   "metadata": {},
   "outputs": [
    {
     "name": "stdout",
     "output_type": "stream",
     "text": [
      "1 \n",
      "1 2 \n",
      "1 2 3 \n",
      "1 2 3 4 \n",
      "1 2 3 4 5 \n"
     ]
    }
   ],
   "source": [
    "i=1\n",
    "while i<=5:\n",
    "    j=1\n",
    "    while j<=i:\n",
    "        print(j,end=\" \")\n",
    "        j=j+1\n",
    "    print(\"\")\n",
    "    i=i+1"
   ]
  },
  {
   "cell_type": "code",
   "execution_count": 4,
   "id": "44f6b98b-d695-4799-a69b-11eca49af343",
   "metadata": {},
   "outputs": [
    {
     "name": "stdin",
     "output_type": "stream",
     "text": [
      "Enter number of rows :  4\n"
     ]
    },
    {
     "name": "stdout",
     "output_type": "stream",
     "text": [
      "* * * * \n",
      "* * * \n",
      "* * \n",
      "* \n"
     ]
    }
   ],
   "source": [
    "n = int(input('Enter number of rows : '))\n",
    " \n",
    "i = 1\n",
    "while i <= n :\n",
    "    j = n\n",
    "    while j >= i:\n",
    "        print(\"*\", end = \" \")\n",
    "        j -= 1\n",
    "    print()\n",
    "    i += 1"
   ]
  },
  {
   "cell_type": "code",
   "execution_count": 3,
   "id": "5810eb47-e151-4b3d-aa25-1c54f5c266b6",
   "metadata": {},
   "outputs": [
    {
     "name": "stdin",
     "output_type": "stream",
     "text": [
      "Enter number of rows :  4\n"
     ]
    },
    {
     "name": "stdout",
     "output_type": "stream",
     "text": [
      "* \n",
      "* * \n",
      "* * * \n",
      "* * * * \n"
     ]
    }
   ],
   "source": [
    "n = int(input('Enter number of rows : '))\n",
    " \n",
    "i = 1\n",
    "while i <= n :\n",
    "    j = 1\n",
    "    while j <= i:\n",
    "        print(\"*\", end = \" \")\n",
    "        j += 1\n",
    "    print()\n",
    "    i += 1"
   ]
  },
  {
   "cell_type": "markdown",
   "id": "cd2301f5-ac45-4ef7-a5a1-40b03bac4c8b",
   "metadata": {},
   "source": [
    "## 7. Reverse a while loop to display numbers from 10 to 1."
   ]
  },
  {
   "cell_type": "code",
   "execution_count": 1,
   "id": "a685de93-1557-4940-b7a9-c2f93b08805d",
   "metadata": {},
   "outputs": [
    {
     "name": "stdout",
     "output_type": "stream",
     "text": [
      "10\n",
      "9\n",
      "8\n",
      "7\n",
      "6\n",
      "5\n",
      "4\n",
      "3\n",
      "2\n",
      "1\n"
     ]
    }
   ],
   "source": [
    "i = 10\n",
    "while i > 0:\n",
    "    print(i)\n",
    "    i = i - 1\n",
    "    "
   ]
  },
  {
   "cell_type": "markdown",
   "id": "78476f46-7b6d-4bd6-8248-939d461e9121",
   "metadata": {},
   "source": [
    "## 8. Reverse a while loop to display numbers from 10 to 1."
   ]
  },
  {
   "cell_type": "code",
   "execution_count": 6,
   "id": "3ac6e25f-fa11-457f-8742-42aaca5f8ecc",
   "metadata": {},
   "outputs": [
    {
     "name": "stdout",
     "output_type": "stream",
     "text": [
      "10\n",
      "9\n",
      "8\n",
      "7\n",
      "6\n",
      "5\n",
      "4\n",
      "3\n",
      "2\n",
      "1\n"
     ]
    }
   ],
   "source": [
    "i = 10\n",
    "while i > 0:\n",
    "    print(i)\n",
    "    i = i - 1"
   ]
  },
  {
   "cell_type": "code",
   "execution_count": null,
   "id": "9858eac3-2f06-4944-b397-64715259a7ad",
   "metadata": {},
   "outputs": [],
   "source": []
  }
 ],
 "metadata": {
  "kernelspec": {
   "display_name": "Python 3 (ipykernel)",
   "language": "python",
   "name": "python3"
  },
  "language_info": {
   "codemirror_mode": {
    "name": "ipython",
    "version": 3
   },
   "file_extension": ".py",
   "mimetype": "text/x-python",
   "name": "python",
   "nbconvert_exporter": "python",
   "pygments_lexer": "ipython3",
   "version": "3.10.8"
  }
 },
 "nbformat": 4,
 "nbformat_minor": 5
}
