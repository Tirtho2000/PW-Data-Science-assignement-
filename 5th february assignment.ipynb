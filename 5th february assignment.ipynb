{
 "cells": [
  {
   "cell_type": "markdown",
   "id": "6e0a0a63-b39c-4ccf-82b2-92c47377dd4f",
   "metadata": {},
   "source": [
    "## Q1. Explain Class and Object with respect to Object-Oriented Programming. Give a suitable example."
   ]
  },
  {
   "cell_type": "markdown",
   "id": "264d8dda-a053-4446-a11b-99823fa4c386",
   "metadata": {},
   "source": [
    "Ans. Classes are user-defined data types that act as the blueprint for individual objects, attributes and methods.\n",
    "    Objects are instances of a class created with specifically defined data. Objects can correspond to real-world objects or an abstract entity. When class is defined initially, the description is the only object that is defined.\n",
    "    For example, suppose Bicycle is a class then MountainBicycle , SportsBicycle , TouringBicycle , etc can be considered as objects of the class."
   ]
  },
  {
   "cell_type": "code",
   "execution_count": 1,
   "id": "0fd9e2e7-7d90-42b7-a2fd-afd75bcf8996",
   "metadata": {},
   "outputs": [
    {
     "name": "stdout",
     "output_type": "stream",
     "text": [
      "Name: Mountain Bike, Gears: 11 \n"
     ]
    }
   ],
   "source": [
    "class Bike:\n",
    "    name = \"\"\n",
    "    gear = 0\n",
    "\n",
    "bike1 = Bike()\n",
    "\n",
    "bike1.gear = 11\n",
    "bike1.name = \"Mountain Bike\"\n",
    "\n",
    "print(f\"Name: {bike1.name}, Gears: {bike1.gear} \")\n",
    "\n",
    "# output: Name: Mountain Bike, Gears: 11"
   ]
  },
  {
   "cell_type": "markdown",
   "id": "20a0be0e-3c86-4d92-aedf-1af43f12f63d",
   "metadata": {},
   "source": [
    "## Q2. Name the four pillars of OOPs."
   ]
  },
  {
   "cell_type": "markdown",
   "id": "72c7f958-c984-4a3f-9f19-feabce2797b8",
   "metadata": {},
   "source": [
    "Ans. The four pillar of OOPs are:\n",
    "    1. Encapsulation\n",
    "    2.Inheritance\n",
    "    3.Abstraction\n",
    "    4.Polymorphism"
   ]
  },
  {
   "cell_type": "markdown",
   "id": "b6762adb-07dd-4890-a06f-b898e2c22753",
   "metadata": {},
   "source": [
    "## Q3. Explain why the __init__() function is used. Give a suitable example."
   ]
  },
  {
   "cell_type": "markdown",
   "id": "8ea78294-4371-4afd-87d9-2e96ca4d856e",
   "metadata": {},
   "source": [
    "Ans. In an object-oriented approach, the __init__ method is the Python equivalent of the C++ constructor. Every time an object is created from a class, the __init__function is called. The __init__ method only allows the class to initialize the object's attributes. It is only used within classes.This method is called automatically whenever a new object of a class is created. This type of function is also known as the constructor function. A constructor function is a function that is called every time a new class object is created.\n"
   ]
  },
  {
   "cell_type": "code",
   "execution_count": 3,
   "id": "74c1e6d8-8e8c-4d7d-bcfa-0801c4d98c2f",
   "metadata": {},
   "outputs": [
    {
     "name": "stdout",
     "output_type": "stream",
     "text": [
      "Hello, my name is Tirthankar\n"
     ]
    }
   ],
   "source": [
    "class Person:\n",
    " \n",
    "    # init method or constructor\n",
    "    def __init__(self, name):\n",
    "        self.name = name\n",
    " \n",
    "    # Sample Method\n",
    "    def say_hi(self):\n",
    "        print('Hello, my name is', self.name)\n",
    " \n",
    " \n",
    "p = Person('Tirthankar')\n",
    "p.say_hi()"
   ]
  },
  {
   "cell_type": "markdown",
   "id": "31a7a3b9-23a5-45e6-8299-1e6cddf5b900",
   "metadata": {},
   "source": [
    "In the above example, a person name Tirthankar is created. While creating a person, “Nikhil” is passed as an argument, this argument will be passed to the __init__ method to initialize the object. The keyword self represents the instance of a class and binds the attributes with the given arguments. Similarly, many objects of the Person class can be created by passing different names as arguments."
   ]
  },
  {
   "cell_type": "markdown",
   "id": "83e5932d-9e6d-4b5d-8dc2-d22f73589353",
   "metadata": {},
   "source": [
    "## Q4. Why self is used in OOPs?"
   ]
  },
  {
   "cell_type": "markdown",
   "id": "ae15aadc-8e12-4947-88ee-f70087d76ddc",
   "metadata": {},
   "source": [
    "Ans. Whenever a class is made in Python, the coder needs to have a way of accessing the attributes and methods of the said class. Other programming languages have a fixed syntax assigned to refer to these attributes and methods.\n",
    "\n",
    "Python, on the other hand, uses SELF as the first parameter of methods representing the instance of the class. Aside from that, SELF can also represent a variable field within the class.Python does not use the @ syntax to refer to instance attributes.\n",
    "The self parameter doesn’t have to be named “self,” as one can call it by any other name. However, the self parameter must always be the first parameter of any class function, regardless of the name chosen. So instead of self, one could use “Mine” or “Ours” or anything else."
   ]
  },
  {
   "cell_type": "markdown",
   "id": "67253b3e-0386-4049-ba56-f4588f31de98",
   "metadata": {},
   "source": [
    "## Q5. What is inheritance? Give an example for each type of inheritance."
   ]
  },
  {
   "cell_type": "markdown",
   "id": "3381fe8d-f842-4cdf-a7aa-452ef77c6291",
   "metadata": {},
   "source": [
    "Ans. Inheritance relationship defines the classes that inherit from other classes as derived, subclass, or sub-type classes. Base class remains to be the source from which a subclass inherits. For example, you have a Base class of “Animal,” and a “Lion” is a Derived class. The inheritance will be Lion is an Animal."
   ]
  },
  {
   "cell_type": "code",
   "execution_count": 9,
   "id": "237363a3-db41-4b1a-b662-a22850fb4ed9",
   "metadata": {},
   "outputs": [
    {
     "name": "stdout",
     "output_type": "stream",
     "text": [
      "This function is in parent class.\n",
      "This function is in child class.\n"
     ]
    }
   ],
   "source": [
    "# Example of single inheritance:\n",
    "class Parent:\n",
    "    def func1(self):\n",
    "        print(\"This function is in parent class.\")\n",
    " \n",
    " \n",
    "    class Child(Parent):\n",
    "        def func2(self):\n",
    "            print(\"This function is in child class.\")\n",
    "object = Child()\n",
    "object.func1()\n",
    "object.func2()"
   ]
  },
  {
   "cell_type": "code",
   "execution_count": 1,
   "id": "ed8d0428-b52a-4835-a150-0a3d447883e2",
   "metadata": {},
   "outputs": [
    {
     "name": "stdout",
     "output_type": "stream",
     "text": [
      "Father : RAM\n",
      "Mother : SITA\n"
     ]
    }
   ],
   "source": [
    "# Example of multiple inheritance:\n",
    "class Mother:\n",
    "    mothername = \"\"\n",
    "\n",
    "    def mother(self):\n",
    "        print(self.mothername)\n",
    "class Father:\n",
    "    fathername = \"\"\n",
    "\n",
    "    def father(self):\n",
    "        print(self.fathername)\n",
    "\n",
    "\n",
    "class Son(Mother, Father):\n",
    "    def parents(self):\n",
    "        print(\"Father :\", self.fathername)\n",
    "        print(\"Mother :\", self.mothername)\n",
    "\n",
    "s1 = Son()\n",
    "s1.fathername = \"RAM\"\n",
    "s1.mothername = \"SITA\"\n",
    "s1.parents()\n"
   ]
  },
  {
   "cell_type": "code",
   "execution_count": null,
   "id": "249665a9-e4de-4ae2-878c-e94d5e2cb6ad",
   "metadata": {},
   "outputs": [],
   "source": []
  },
  {
   "cell_type": "code",
   "execution_count": null,
   "id": "522c3565-423f-4b7f-b121-c3737f6540aa",
   "metadata": {},
   "outputs": [],
   "source": []
  }
 ],
 "metadata": {
  "kernelspec": {
   "display_name": "Python 3 (ipykernel)",
   "language": "python",
   "name": "python3"
  },
  "language_info": {
   "codemirror_mode": {
    "name": "ipython",
    "version": 3
   },
   "file_extension": ".py",
   "mimetype": "text/x-python",
   "name": "python",
   "nbconvert_exporter": "python",
   "pygments_lexer": "ipython3",
   "version": "3.10.8"
  }
 },
 "nbformat": 4,
 "nbformat_minor": 5
}
