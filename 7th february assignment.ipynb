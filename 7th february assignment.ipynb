{
 "cells": [
  {
   "cell_type": "markdown",
   "id": "29764109-343d-4b7f-a3eb-1842fe21ef3c",
   "metadata": {},
   "source": [
    "## Q1. You are writing code for a company. The requirement of the company is that you create a python function that will check whether the password entered by the user is correct or not. The function should take the password as input and return the string \"Valid Password\" If the entered password follows the below-given password guidelines else it should return \"Invalid Password\".\n",
    "\n",
    "Note: 1. The Password should contain at least two uppercase letters and at least two lowercase letters. \n",
    "2. The Password should contain at least a number and three special characters.\n",
    "3. The length of the password should be 10 characters long."
   ]
  },
  {
   "cell_type": "code",
   "execution_count": 6,
   "id": "d1cdad11-6caf-4b47-9fc3-50753f3732df",
   "metadata": {},
   "outputs": [
    {
     "name": "stdin",
     "output_type": "stream",
     "text": [
      "Enter password:  WWee!@#$ghfghf\n"
     ]
    },
    {
     "name": "stdout",
     "output_type": "stream",
     "text": [
      "Password must contain at least one digit\n"
     ]
    }
   ],
   "source": [
    "password = input(\"Enter password: \")\n",
    "\n",
    "# minimum length of password\n",
    "min_length = 10\n",
    "special_characters = \"!@#$%^&*()_+-=[]{}|;':\\\",.<>/?`~\"\n",
    "\n",
    "# conditions to check password validity\n",
    "if len(password) < min_length:\n",
    "    print(\"Password is too short\")\n",
    "elif not any(char.isnumeric() for char in password):\n",
    "    print(\"Password must contain at least one digit\")\n",
    "elif not any(char.isalpha() for char in password):\n",
    "    print(\"Password must contain at least one letter\")\n",
    "elif sum(1 for c in password if c.isupper()) < 2:\n",
    "    print(\"Password must contain at least two uppercase characters\")\n",
    "elif sum(1 for c in password if c.islower()) < 2:\n",
    "    print(\"Password must contain at least two lowercase characters\")\n",
    "elif sum(1 for c in password if c in special_characters) < 3:\n",
    "    print(\"Password must contain at least three special characters\")\n",
    "else:\n",
    "    print(\"Password is valid\")"
   ]
  },
  {
   "cell_type": "markdown",
   "id": "71253c7b-1f72-4f19-8f81-c4ef3d540d8f",
   "metadata": {},
   "source": [
    "## Q2. Solve the below-given questions using at least one of the following:\n",
    "\n",
    "1. Lambda function\n",
    "\n",
    "2. Filter function\n",
    "\n",
    "3. Map function\n",
    "\n",
    "4. List Comprehension\n",
    "\n",
    "### . Check if the string starts with a particular letter.\n",
    "\n",
    "### . Check if the string is numeric.\n",
    "\n",
    "### . Sort a list of tuples having fruit names and their quantity. [(\"mango,99). (\"orange\",80), (\"grapes\", 1000)]\n",
    "\n",
    "### . Find the squares of numbers from 1 to 10. \n",
    "\n",
    "### . Find the cube root of numbers from 1 to 10.\n",
    "\n",
    "### . Check if a given number is even.\n",
    "\n",
    "### . Filter odd numbers from the given list. [1,2,3,4,5,6,7,8,9,10]\n",
    "\n",
    "### . Sort a list of integers into positive and negative integers lists. [1,2,3,4,5,6,-1,-2,-3,-4,-5,0]"
   ]
  },
  {
   "cell_type": "code",
   "execution_count": 4,
   "id": "80140777-879d-48d3-a5da-7cfda5d7b2e2",
   "metadata": {},
   "outputs": [
    {
     "name": "stdin",
     "output_type": "stream",
     "text": [
      "Input the string pwskills\n",
      "Input the start letter p\n"
     ]
    },
    {
     "name": "stdout",
     "output_type": "stream",
     "text": [
      "The string starts with the letter 'p'.\n"
     ]
    }
   ],
   "source": [
    "# Check the string starts with a particular letter\n",
    "a = str(input(\"Input the string\"))\n",
    "letter = str(input(\"Input the start letter\"))\n",
    "starts_with = lambda x: x.startswith(letter)\n",
    "\n",
    "if starts_with(a):\n",
    "    print(\"The string starts with the letter '\" + letter + \"'.\")\n",
    "else:\n",
    "    print(\"The string does not start with the letter '\" + letter + \"'.\")"
   ]
  },
  {
   "cell_type": "code",
   "execution_count": 10,
   "id": "2f3bbf17-2577-4c25-8fb1-9159bcfe93b1",
   "metadata": {},
   "outputs": [
    {
     "name": "stdin",
     "output_type": "stream",
     "text": [
      "Input the string 124\n"
     ]
    },
    {
     "name": "stdout",
     "output_type": "stream",
     "text": [
      "The string is numeric\n"
     ]
    }
   ],
   "source": [
    "# Check the given string is numeric or not.\n",
    "a = str(input(\"Input the string\"))\n",
    "is_num = lambda x: x.isnumeric()\n",
    "\n",
    "if is_num(a):\n",
    "    print(\"The string is numeric\")\n",
    "else:\n",
    "    print(\"The string is not numeric\")"
   ]
  },
  {
   "cell_type": "code",
   "execution_count": 55,
   "id": "50f2834b-788a-4102-a022-c6a62210ccc3",
   "metadata": {},
   "outputs": [
    {
     "name": "stdout",
     "output_type": "stream",
     "text": [
      "The sorted list is  [('orange', 80), ('mango', 99), ('grapes', 1000)]\n"
     ]
    }
   ],
   "source": [
    "#Sort a list of tuples having fruit names and their quantity. [(\"mango,99). (\"orange\",80), (\"grapes\", 1000)]\n",
    "tuple1 = [(\"mango\",99), (\"orange\",80), (\"grapes\", 1000)]\n",
    "sorted_list = sorted(tuple1, key=lambda x: x[1])\n",
    "\n",
    "print(\"The sorted list is \",sorted_list)          "
   ]
  },
  {
   "cell_type": "code",
   "execution_count": 49,
   "id": "d92a6c12-4e66-415d-99be-aff6c294f72e",
   "metadata": {},
   "outputs": [
    {
     "name": "stdout",
     "output_type": "stream",
     "text": [
      "The square of the given numbers [1, 2, 3, 4, 5, 6, 7, 8, 9, 10] is  [1, 4, 9, 16, 25, 36, 49, 64, 81, 100]\n"
     ]
    }
   ],
   "source": [
    "#Find the squares of numbers from 1 to 10.\n",
    "a= [x for x in range(1,10+1)]\n",
    "print(f\"The square of the given numbers {a} is \",list(map(lambda x: x**2 ,a)))"
   ]
  },
  {
   "cell_type": "code",
   "execution_count": 33,
   "id": "0ef7a0a9-7e02-4256-a940-7bbc51096ca3",
   "metadata": {},
   "outputs": [
    {
     "name": "stdout",
     "output_type": "stream",
     "text": [
      "The cube of the given numbers [1, 2, 3, 4, 5, 6, 7, 8, 9, 10] is  [1, 8, 27, 64, 125, 216, 343, 512, 729, 1000]\n"
     ]
    }
   ],
   "source": [
    "# Find the cube root of numbers from 1 to 10.\n",
    "a= [x for x in range(1,10+1)]\n",
    "print(f\"The cube of the given numbers {a} is \",list(map(lambda x: x**3 ,a)))"
   ]
  },
  {
   "cell_type": "code",
   "execution_count": 39,
   "id": "99bdddb3-1f17-4bdb-b0a4-4d10ffa60e9d",
   "metadata": {},
   "outputs": [
    {
     "name": "stdin",
     "output_type": "stream",
     "text": [
      "Input any number 22\n"
     ]
    },
    {
     "name": "stdout",
     "output_type": "stream",
     "text": [
      "The input number is an even number \n"
     ]
    }
   ],
   "source": [
    "# Check if a given number is even.\n",
    "is_even = int(input(\"Input any number\"))\n",
    "a = [print(\"The input number is an even number \") if is_even%2 == 0 else print(\"The input number is not an even number \")]"
   ]
  },
  {
   "cell_type": "code",
   "execution_count": 44,
   "id": "b2973cae-638f-403d-adae-5433b761296e",
   "metadata": {},
   "outputs": [
    {
     "name": "stdout",
     "output_type": "stream",
     "text": [
      "The odd numbers from the given list [1, 2, 3, 4, 5, 6, 7, 8, 9, 10] is   [1, 3, 5, 7, 9]\n"
     ]
    }
   ],
   "source": [
    "# Filter odd numbers from the given list. [1,2,3,4,5,6,7,8,9,10]\n",
    "Given_list = [1,2,3,4,5,6,7,8,9,10]\n",
    "result = filter(lambda x : x%2 !=0, Given_list)\n",
    "print(f\"The odd numbers from the given list {Given_list} is  \",list(result))"
   ]
  },
  {
   "cell_type": "code",
   "execution_count": 48,
   "id": "df3cf136-ef39-4406-842c-2843c18271df",
   "metadata": {},
   "outputs": [
    {
     "name": "stdout",
     "output_type": "stream",
     "text": [
      "The original list is  [1, 2, 3, 4, 5, 6, -1, -2, -3, -4, -5, 0]\n",
      "The reduced positive integer list is  [1, 2, 3, 4, 5, 6, 0]\n",
      "The reduced negative integer list is  [-1, -2, -3, -4, -5]\n"
     ]
    }
   ],
   "source": [
    "# Sort a list of integers into positive and negative integers lists. [1,2,3,4,5,6,-1,-2,-3,-4,-5,0]\n",
    "given_list = [1,2,3,4,5,6,-1,-2,-3,-4,-5,0]\n",
    "result1 = filter(lambda x : x>=0 , given_list)\n",
    "result2 = filter(lambda x : x<0 , given_list)\n",
    "print(\"The original list is \",given_list)\n",
    "print(f\"The reduced positive integer list is \",list(result1))\n",
    "print(f\"The reduced negative integer list is \",list(result2))"
   ]
  },
  {
   "cell_type": "code",
   "execution_count": null,
   "id": "6ba14b4e-f814-4751-8d1c-e1ee6649e863",
   "metadata": {},
   "outputs": [],
   "source": []
  }
 ],
 "metadata": {
  "kernelspec": {
   "display_name": "Python 3 (ipykernel)",
   "language": "python",
   "name": "python3"
  },
  "language_info": {
   "codemirror_mode": {
    "name": "ipython",
    "version": 3
   },
   "file_extension": ".py",
   "mimetype": "text/x-python",
   "name": "python",
   "nbconvert_exporter": "python",
   "pygments_lexer": "ipython3",
   "version": "3.10.8"
  }
 },
 "nbformat": 4,
 "nbformat_minor": 5
}
