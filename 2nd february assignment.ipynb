{
 "cells": [
  {
   "cell_type": "markdown",
   "id": "ca22676b-cfe4-4e7e-bebc-8f59116cfa52",
   "metadata": {},
   "source": [
    "## Q1. What are the characteristics of the tuples? Is tuple immutable? "
   ]
  },
  {
   "cell_type": "markdown",
   "id": "013f974a-ca4d-4c0b-9408-682b0e79a1d7",
   "metadata": {},
   "source": [
    " Ans. Tuple items are ordered, unchangeable, and allow duplicate values. Tuple items are indexed, the first item has index [0] , the second item has index [1] etc.\n",
    " Yes tuple is immutable.Once we've declared the contents of a tuple, we can't modify the contents of that tuple."
   ]
  },
  {
   "cell_type": "markdown",
   "id": "530b199f-6cd8-4746-a6f9-0e5827a05762",
   "metadata": {},
   "source": [
    "## Q2. What are the two tuple methods in python? Give an example of each method. Give a reason why\n",
    "tuples have only two in-built methods as compared to Lists.\n"
   ]
  },
  {
   "cell_type": "code",
   "execution_count": null,
   "id": "2d23ba66-93db-4da3-b608-71725c95be1f",
   "metadata": {},
   "outputs": [],
   "source": [
    "Ans. There are only two tuple methods count() and index() that a tuple object can call.\n"
   ]
  },
  {
   "cell_type": "code",
   "execution_count": 1,
   "id": "2b46b2a0-b0d3-4017-96e9-1bc216e45b8a",
   "metadata": {},
   "outputs": [
    {
     "name": "stdout",
     "output_type": "stream",
     "text": [
      "2\n"
     ]
    }
   ],
   "source": [
    "# tuple of vowels as an example of .count()\n",
    "vowels = ('a', 'e', 'i', 'o', 'i', 'u')\n",
    "count = vowels.count('i')\n",
    "print(count) \n",
    "\n",
    "# Output: 2"
   ]
  },
  {
   "cell_type": "code",
   "execution_count": 2,
   "id": "f6852343-3505-42ad-8e5c-269f1e73eadd",
   "metadata": {},
   "outputs": [
    {
     "name": "stdout",
     "output_type": "stream",
     "text": [
      "1\n"
     ]
    }
   ],
   "source": [
    "# tuple containing vowels as an example of .index()\n",
    "vowels = ('a', 'e', 'i', 'o', 'u')\n",
    "index = vowels.index('e')\n",
    "print(index)\n",
    "\n",
    "# Output: 1"
   ]
  },
  {
   "cell_type": "markdown",
   "id": "8e4ccaf5-3149-4631-b20a-bb8ba9e70330",
   "metadata": {},
   "source": [
    "As tuple is immutable so that we can not change the assigned values even we can not add some values so that it has only this two options available that is for indexing (tuple.index())and counting (tuple.count())."
   ]
  },
  {
   "cell_type": "markdown",
   "id": "a3b41f6a-38b2-4624-8b6b-c21754c24f1e",
   "metadata": {},
   "source": [
    "## Q3. Which collection datatypes in python do not allow duplicate items? Write a code using a set to remove duplicates from the given list.\n",
    " ## List = [1, 1, 1, 2, 1, 3, 1, 4, 2, 1, 2, 2, 2, 3, 2, 4, 3, 1, 3, 2, 3, 3, 3, 4, 4, 1, 4, 2, 4, 3, 4, 4]"
   ]
  },
  {
   "cell_type": "markdown",
   "id": "f3676098-9a7b-41b0-920a-540ae4e578c1",
   "metadata": {},
   "source": [
    "Ans. Set deta type in python does not allow duplicate items. It is written as {}"
   ]
  },
  {
   "cell_type": "code",
   "execution_count": 10,
   "id": "f66080a8-61d3-4ed6-8dbe-46d0832b7b4a",
   "metadata": {},
   "outputs": [
    {
     "name": "stdout",
     "output_type": "stream",
     "text": [
      "{1, 2, 3, 4}\n"
     ]
    }
   ],
   "source": [
    "List = [1, 1, 1, 2, 1, 3, 1, 4, 2, 1, 2, 2, 2, 3, 2, 4, 3, 1, 3, 2, 3, 3, 3, 4, 4, 1, 4, 2, 4, 3, 4, 4]\n",
    "dup_items = set()\n",
    "uniq_items = []\n",
    "for x in List:\n",
    "    if x not in dup_items:\n",
    "        uniq_items.append(x)\n",
    "        dup_items.add(x)\n",
    "\n",
    "print(dup_items)"
   ]
  },
  {
   "cell_type": "markdown",
   "id": "a6f29252-faf0-4fc1-97b7-dce1786f424c",
   "metadata": {},
   "source": [
    "## Q4. Explain the difference between the union() and update() methods for a set. Give an example of each method."
   ]
  },
  {
   "cell_type": "markdown",
   "id": "fe75697c-0c84-4684-907f-d87daca420a1",
   "metadata": {},
   "source": [
    "Ans. update() and set. union() . The first one adds all missing elements to the set on which it is called and returns None , while the latter creates and returns a new set.\n"
   ]
  },
  {
   "cell_type": "code",
   "execution_count": null,
   "id": "f25f884e-d0ef-4561-abba-b016f79e5590",
   "metadata": {},
   "outputs": [],
   "source": [
    "#Example of update()\n",
    "A = {'a', 'b'}\n",
    "B = {1, 2, 3}\n",
    "# updates A after the items of B is added to A\n",
    "A.update(B)\n",
    "print(A)\n",
    "\n",
    "# Output: {'a', 1, 2, 'b', 3}"
   ]
  },
  {
   "cell_type": "code",
   "execution_count": null,
   "id": "93c87bfc-6197-4ea6-95b2-8622153c3219",
   "metadata": {},
   "outputs": [],
   "source": [
    "# Example of union()\n",
    "x = {\"apple\", \"banana\", \"cherry\"}\n",
    "y = {\"google\", \"microsoft\", \"apple\"}\n",
    "z = x.union(y) \n",
    "print(z)\n",
    "\n",
    "# output: {'banana', 'apple', 'cherry', 'google', 'microsoft'}"
   ]
  },
  {
   "cell_type": "markdown",
   "id": "8c94efe2-50c5-49c6-b2a7-3af4b20529d1",
   "metadata": {},
   "source": [
    "## Q5. What is a dictionary? Give an example. Also, state whether a dictionary is ordered or unordered."
   ]
  },
  {
   "cell_type": "markdown",
   "id": "717bcf5c-8669-409f-8030-01f4295a8eda",
   "metadata": {},
   "source": [
    "Ans. Dictionaries are used to store data values in key:value pairs. A dictionary is a collection which is ordered*, changeable and do not allow duplicates.\n"
   ]
  },
  {
   "cell_type": "code",
   "execution_count": 11,
   "id": "08357333-ab40-4a44-88d3-793070c4cb99",
   "metadata": {},
   "outputs": [
    {
     "name": "stdout",
     "output_type": "stream",
     "text": [
      "{'USA': 'Washington D.C.', 'France': 'Paris', 'India': 'New Delhi'}\n"
     ]
    }
   ],
   "source": [
    "# Example of dictionary\n",
    "capitals = {\"USA\":\"Washington D.C.\", \"France\":\"Paris\", \"India\":\"New Delhi\"}\n",
    "print(capitals)\n",
    "# output: {'USA': 'Washington D.C.', 'France': 'Paris', 'India': 'New Delhi'}"
   ]
  },
  {
   "cell_type": "markdown",
   "id": "de3c17a0-bccc-4bdb-9851-7e14dd5a3b90",
   "metadata": {},
   "source": [
    "Dictionary is ordered collection."
   ]
  },
  {
   "cell_type": "markdown",
   "id": "24f3a5f3-c981-44de-975d-f594abfea844",
   "metadata": {},
   "source": [
    "## Q6. Can we create a nested dictionary? If so, please give an example by creating a simple one-level nested dictionary."
   ]
  },
  {
   "cell_type": "markdown",
   "id": "579ecd61-ba09-4c60-ba29-725fc091444f",
   "metadata": {},
   "source": [
    "Ans. Yes we can create a nested dictionary.Nesting Dictionary means putting a dictionary inside another dictionary."
   ]
  },
  {
   "cell_type": "code",
   "execution_count": 12,
   "id": "fa4e82ae-2d6c-4173-a976-5a9932e7f326",
   "metadata": {},
   "outputs": [
    {
     "name": "stdout",
     "output_type": "stream",
     "text": [
      "{'dict1': {'key_A': 'value_A'}, 'dict2': {'key_B': 'value_B'}}\n"
     ]
    }
   ],
   "source": [
    "# Example of nested dictionary\n",
    "nested_dict = { 'dict1': {'key_A': 'value_A'},\n",
    "\t\t\t\t'dict2': {'key_B': 'value_B'}}\n",
    "print(nested_dict)\n",
    "\n",
    "# output: {'dict1': {'key_A': 'value_A'}, 'dict2': {'key_B': 'value_B'}}"
   ]
  },
  {
   "cell_type": "markdown",
   "id": "f0a200db-2e39-4bf0-a066-ae534c8a9294",
   "metadata": {},
   "source": [
    "## Q7. Using setdefault() method, create key named topics in the given dictionary and also add the value of the key as this list ['Python', 'Machine Learning’, 'Deep Learning']\n",
    "\n",
    "## dict1 = {'language' : 'Python', 'course': 'Data Science Masters'}"
   ]
  },
  {
   "cell_type": "code",
   "execution_count": 14,
   "id": "f1eea44e-de90-4e45-9f9a-a11efc7c2db7",
   "metadata": {},
   "outputs": [
    {
     "name": "stdout",
     "output_type": "stream",
     "text": [
      "{'language': 'Python', 'course': 'Data Science Masters', 'topics': ['Python', 'Machine Learning', 'Deep Learning']}\n"
     ]
    }
   ],
   "source": [
    "dict1 = {'language' : 'Python', 'course': 'Data Science Masters'}\n",
    "dict1.setdefault(\"topics\",[\"Python\", \"Machine Learning\", \"Deep Learning\"])\n",
    "print(dict1)"
   ]
  },
  {
   "cell_type": "markdown",
   "id": "65edf518-c68f-48b1-ab72-e93bd79e8c6e",
   "metadata": {},
   "source": [
    "## Q8. What are the three view objects in dictionaries? Use the three in-built methods in python to display these three view objects for the given dictionary.\n",
    "\n",
    "## dict1 = {'Sport': 'Cricket' , 'Teams': ['India', 'Australia', 'England', 'South Africa', 'Sri Lanka', 'New Zealand']}"
   ]
  },
  {
   "cell_type": "markdown",
   "id": "76285f99-c4d0-4fba-b314-278e749a4f36",
   "metadata": {},
   "source": [
    "Ans.The three view object in dictionary is dict.keys(), dict.values(), dict.items()."
   ]
  },
  {
   "cell_type": "code",
   "execution_count": 15,
   "id": "5467190c-b6fe-448a-b9f3-80298c77821b",
   "metadata": {},
   "outputs": [
    {
     "name": "stdout",
     "output_type": "stream",
     "text": [
      "dict_keys(['Sport', 'Teams'])\n",
      "dict_values(['Cricket', ['India', 'Australia', 'England', 'South Africa', 'Sri Lanka', 'New Zealand']])\n",
      "dict_items([('Sport', 'Cricket'), ('Teams', ['India', 'Australia', 'England', 'South Africa', 'Sri Lanka', 'New Zealand'])])\n"
     ]
    }
   ],
   "source": [
    "dict1 = {'Sport': 'Cricket' , 'Teams': ['India', 'Australia', 'England', 'South Africa', 'Sri Lanka', 'New Zealand']}\n",
    "i=dict1.keys()\n",
    "j=dict1.values()\n",
    "k=dict1.items()\n",
    "print(i)\n",
    "print(j)\n",
    "print(k)"
   ]
  }
 ],
 "metadata": {
  "kernelspec": {
   "display_name": "Python 3 (ipykernel)",
   "language": "python",
   "name": "python3"
  },
  "language_info": {
   "codemirror_mode": {
    "name": "ipython",
    "version": 3
   },
   "file_extension": ".py",
   "mimetype": "text/x-python",
   "name": "python",
   "nbconvert_exporter": "python",
   "pygments_lexer": "ipython3",
   "version": "3.10.8"
  }
 },
 "nbformat": 4,
 "nbformat_minor": 5
}
