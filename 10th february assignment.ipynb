{
 "cells": [
  {
   "cell_type": "markdown",
   "id": "74ae16f5-46a5-4bc0-a410-330beb930570",
   "metadata": {},
   "source": [
    "## Q1. Which function is used to open a file? What are the different modes of opening a file? Explain each mode of file opening."
   ]
  },
  {
   "cell_type": "markdown",
   "id": "60a8fb0a-dd44-48eb-98c9-fe3f6e245b00",
   "metadata": {},
   "source": [
    "In Python, we use the open() method to open files."
   ]
  },
  {
   "cell_type": "markdown",
   "id": "4734bc84-9400-40b4-9604-51a1e4256a4c",
   "metadata": {},
   "source": [
    "There are 6 access modes in python:\n",
    "    1. Read Only (‘r’)\n",
    "    2.Read and Write (‘r+’)\n",
    "    3.Write Only (‘w’) \n",
    "    4.Write and Read (‘w+’)\n",
    "    5.Append Only (‘a’)\n",
    "    6.Append and Read (‘a+’)"
   ]
  },
  {
   "cell_type": "markdown",
   "id": "dedf4d23-28d3-4214-a4c9-182d2b805828",
   "metadata": {},
   "source": [
    " 1.Read Only (‘r’) : Open text file for reading. The handle is positioned at the beginning of the file. If the file does not exists, raises the I/O error. This is also the default mode in which a file is opened.\n",
    " 2.Read and Write (‘r+’): Open the file for reading and writing. The handle is positioned at the beginning of the file. Raises I/O error if the file does not exist.\n",
    " 3.Write Only (‘w’) : Open the file for writing. For the existing files, the data is truncated and over-written. The handle is positioned at the beginning of the file. Creates the file if the file does not exist.\n",
    " 4.Write and Read (‘w+’) : Open the file for reading and writing. For an existing file, data is truncated and over-written. The handle is positioned at the beginning of the file.\n",
    " 5.Append Only (‘a’): Open the file for writing. The file is created if it does not exist. The handle is positioned at the end of the file. The data being written will be inserted at the end, after the existing data.\n",
    " 6.Append and Read (‘a+’) : Open the file for reading and writing. The file is created if it does not exist. The handle is positioned at the end of the file. The data being written will be inserted at the end, after the existing data."
   ]
  },
  {
   "cell_type": "markdown",
   "id": "f5e2efa7-e3cc-4333-bc40-18243c62a1e2",
   "metadata": {},
   "source": [
    "## Q2. Why close() function is used? Why is it important to close a file? "
   ]
  },
  {
   "cell_type": "markdown",
   "id": "e3f8b12e-7b6a-4dbe-acd5-e0098ef1ae1f",
   "metadata": {},
   "source": [
    "The close() method closes an open file. We should always close our files, in some cases, due to buffering, changes made to a file may not show until we close the file.Python has a close() method to close a file. The close() method can be called more than once and if any operation is performed on a closed file it raises a ValueError."
   ]
  },
  {
   "cell_type": "markdown",
   "id": "588e6e51-5c45-401e-91ef-c381cc6cc3de",
   "metadata": {},
   "source": [
    "Because files are limited resources managed by the operating system, making sure files are closed after use will protect against hard-to-debug issues like running out of file handles or experiencing corrupted data"
   ]
  },
  {
   "cell_type": "markdown",
   "id": "b0c43ac5-2166-4c7f-90fd-ad6ec08119fb",
   "metadata": {},
   "source": [
    "## Q3. Write a python program to create a text file. Write ‘I want to become a Data Scientist’ in that file. Then close the file. Open this file and read the content of the file."
   ]
  },
  {
   "cell_type": "code",
   "execution_count": 7,
   "id": "71ecc679-12cc-44e1-b119-d61ee90901ad",
   "metadata": {},
   "outputs": [],
   "source": [
    "f= open(\"data_science.txt\",\"w\")\n",
    "f.write(\"I want to become a Data Scientist\")\n",
    "f.close()\n",
    "  "
   ]
  },
  {
   "cell_type": "code",
   "execution_count": 8,
   "id": "e4d01ceb-b3d7-4dda-9c1b-fd1d79a361d7",
   "metadata": {},
   "outputs": [
    {
     "name": "stdout",
     "output_type": "stream",
     "text": [
      "I want to become a Data Scientist\n"
     ]
    }
   ],
   "source": [
    "f= open(\"data_science.txt\",\"r\")\n",
    "print(f.read())\n",
    "    "
   ]
  },
  {
   "cell_type": "markdown",
   "id": "9800f8f2-d222-4bbf-94d8-40fad6f28098",
   "metadata": {},
   "source": [
    "## Q4. Explain the following with python code: read(), readline() and readlines()."
   ]
  },
  {
   "cell_type": "code",
   "execution_count": 9,
   "id": "271ce363-9a93-4d6e-a1cb-866915c32026",
   "metadata": {},
   "outputs": [],
   "source": [
    "f= open(\"pw_skills.txt\",\"w\")\n",
    "f.write(\"I want to become a Data Scientist \\n I want to become a Data Analyst \\n I want to become a web developer\")\n",
    "f.close()"
   ]
  },
  {
   "cell_type": "markdown",
   "id": "d76f313a-1be1-4ac9-8d42-b48f0ab8d79f",
   "metadata": {},
   "source": [
    "read(): This method reads the entire content of a file and returns it as a single string. We can use the read() method to read small files or when we want to process the entire content of a file as a single string."
   ]
  },
  {
   "cell_type": "code",
   "execution_count": 16,
   "id": "bd66bbc8-f542-44ab-83fe-0bfe21da01cc",
   "metadata": {},
   "outputs": [
    {
     "name": "stdout",
     "output_type": "stream",
     "text": [
      "I want to become a Data Scientist \n",
      " I want to become a Data Analyst \n",
      " I want to become a web developer\n"
     ]
    }
   ],
   "source": [
    "# example of read() method\n",
    "r1 = open(\"pw_skills.txt\", \"r\")\n",
    "content = r1.read()\n",
    "r1.close()\n",
    "print(content)\n"
   ]
  },
  {
   "cell_type": "markdown",
   "id": "b5ab8a4a-4c8e-4e7d-9323-5b629f9100dc",
   "metadata": {},
   "source": [
    "readline(): This method reads a single line from the file and returns it as a string. We can use the readline() method when we want to read a file line by line."
   ]
  },
  {
   "cell_type": "code",
   "execution_count": 18,
   "id": "83f9eb85-1985-4830-bbf3-c852e6afaa2b",
   "metadata": {},
   "outputs": [
    {
     "name": "stdout",
     "output_type": "stream",
     "text": [
      "I want to become a Data Scientist \n",
      "\n"
     ]
    }
   ],
   "source": [
    "# Example: Using readline() to read a file line by line\n",
    "r2 = open(\"pw_skills.txt\", \"r\")\n",
    "line = r2.readline()\n",
    "r2.close()\n",
    "print(line)\n"
   ]
  },
  {
   "cell_type": "markdown",
   "id": "58281bd8-391f-4b26-96aa-4b048fbe4543",
   "metadata": {},
   "source": [
    "readlines(): This method reads all the lines of a file and returns them as a list of strings. We can use the readlines() method to read a file line by line and store the lines in a list."
   ]
  },
  {
   "cell_type": "code",
   "execution_count": 21,
   "id": "f5f70bef-dc03-4c9a-9b4b-3cba6ef7b7d4",
   "metadata": {},
   "outputs": [
    {
     "name": "stdout",
     "output_type": "stream",
     "text": [
      "['I want to become a Data Scientist \\n', ' I want to become a Data Analyst \\n', ' I want to become a web developer']\n"
     ]
    }
   ],
   "source": [
    "# Example: Using readlines() to read all the lines of a file\n",
    "with open(\"pw_skills.txt\", \"r\") as r3:\n",
    "    lines = r3.readlines()\n",
    "\n",
    "    print(lines)\n"
   ]
  },
  {
   "cell_type": "markdown",
   "id": "97635edd-61a7-4ca7-bbdf-bb7513c8a1f6",
   "metadata": {},
   "source": [
    "## Q5. Explain why with statement is used with open(). What is the advantage of using with statement and open() together?"
   ]
  },
  {
   "cell_type": "markdown",
   "id": "55b5f826-2d91-425a-b15e-056170a3c9b8",
   "metadata": {},
   "source": [
    "When we call the open() function using the with statement, the file closes automatically after you've processed the file. The with statement is a replacement for commonly used try/finally error-handling statements. A common example of using the with statement is opening a file."
   ]
  },
  {
   "cell_type": "markdown",
   "id": "e7403fd8-39fc-40a9-9d3b-21c685a4429a",
   "metadata": {},
   "source": [
    "Using with means that the file will be closed as soon as we leave the block. This is beneficial because closing a file is something that can easily be forgotten and ties up resources that we no longer need."
   ]
  },
  {
   "cell_type": "markdown",
   "id": "8d2011a5-0cba-4a7d-b4d6-5e9af790c930",
   "metadata": {},
   "source": [
    "## Q6. Explain the write() and writelines() functions. Give a suitable example."
   ]
  },
  {
   "cell_type": "markdown",
   "id": "8f1dc3f6-3aed-42b6-9bcf-8c965469aa5f",
   "metadata": {},
   "source": [
    "write(): This function writes a string of characters to a file. It takes a string as an argument and writes it to the file at the current file pointer position. If the file does not exist, it will be created."
   ]
  },
  {
   "cell_type": "code",
   "execution_count": 23,
   "id": "9b10eaf7-0834-4113-9a01-b253a4e49168",
   "metadata": {},
   "outputs": [],
   "source": [
    "# Example: Using write() to write a string to a file\n",
    "with open(\"example.txt\", \"w\") as f:\n",
    "    f.write(\"Hello, World!\")\n"
   ]
  },
  {
   "cell_type": "markdown",
   "id": "a5cce4b4-c8f7-4705-aafc-53ed869f7bb4",
   "metadata": {},
   "source": [
    "writelines(): This function writes a sequence of strings (such as a list or tuple) to a file. It takes a sequence of strings as an argument and writes each string to the file at the current file pointer position. If the file does not exist, it will be created."
   ]
  },
  {
   "cell_type": "code",
   "execution_count": 24,
   "id": "fa74b175-a476-4847-a985-a242fa26891a",
   "metadata": {},
   "outputs": [],
   "source": [
    "# Example: Using writelines() to write a list of strings to a file\n",
    "lines = [\"Hello\\n\", \"World\\n\", \"How are you?\\n\"]\n",
    "with open(\"example.txt\", \"w\") as f:\n",
    "    f.writelines(lines)\n"
   ]
  },
  {
   "cell_type": "code",
   "execution_count": null,
   "id": "fc4f7141-b625-4498-93a5-8165e0de0b69",
   "metadata": {},
   "outputs": [],
   "source": []
  }
 ],
 "metadata": {
  "kernelspec": {
   "display_name": "Python 3 (ipykernel)",
   "language": "python",
   "name": "python3"
  },
  "language_info": {
   "codemirror_mode": {
    "name": "ipython",
    "version": 3
   },
   "file_extension": ".py",
   "mimetype": "text/x-python",
   "name": "python",
   "nbconvert_exporter": "python",
   "pygments_lexer": "ipython3",
   "version": "3.10.8"
  }
 },
 "nbformat": 4,
 "nbformat_minor": 5
}
