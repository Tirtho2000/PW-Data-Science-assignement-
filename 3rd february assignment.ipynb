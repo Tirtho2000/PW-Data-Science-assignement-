{
 "cells": [
  {
   "cell_type": "markdown",
   "id": "744aae44-4bdd-4510-8e74-d60e30bf8024",
   "metadata": {},
   "source": [
    "## Q1. Which keyword is used to create a function? Create a function to return a list of odd numbers in the range of 1 to 25."
   ]
  },
  {
   "cell_type": "markdown",
   "id": "97d4d3f3-f7b3-451b-8a71-3e7ed0848354",
   "metadata": {},
   "source": [
    "Ans. def keyword is used to create a function like def xyz().\n"
   ]
  },
  {
   "cell_type": "code",
   "execution_count": 19,
   "id": "1d13f9ea-0ac4-4fcd-beb6-cc4df07755d3",
   "metadata": {},
   "outputs": [
    {
     "name": "stdout",
     "output_type": "stream",
     "text": [
      "[1, 3, 5, 7, 9, 11, 13, 15, 17, 19, 21, 23, 25]\n"
     ]
    }
   ],
   "source": [
    "def odd_numbers(n):\n",
    "    return [x for x in range(n + 1) if x % 2 == 1]\n",
    "print(odd_numbers(25))\n",
    "\n",
    "# output: [1, 3, 5, 7, 9, 11, 13, 15, 17, 19, 21, 23, 25]"
   ]
  },
  {
   "cell_type": "markdown",
   "id": "41d6d7ef-c2a4-45ac-93c2-ff17ac092a01",
   "metadata": {},
   "source": [
    "## Q2. Why *args and **kwargs is used in some functions? Create a function each for *args and **kwargs to demonstrate their use."
   ]
  },
  {
   "cell_type": "markdown",
   "id": "ee7e94ba-a0fb-4ab5-bdf5-eaeded44870c",
   "metadata": {},
   "source": [
    "Ans. We use *args and **kwargs as an argument when we are unsure about the number of arguments to pass in the functions.\n",
    "*args is actually used as Non-Keyword Arguments and **kwargs is used as Keyword Arguments like key value pair."
   ]
  },
  {
   "cell_type": "code",
   "execution_count": 20,
   "id": "2c3ff133-bbf2-42c7-97e7-36993f6568ee",
   "metadata": {},
   "outputs": [
    {
     "name": "stdout",
     "output_type": "stream",
     "text": [
      "Hello\n",
      "World\n",
      "of\n",
      "Pw skills\n"
     ]
    }
   ],
   "source": [
    "def myFun(*argv):\n",
    "\tfor arg in argv:\n",
    "\t\tprint(arg)\n",
    "\n",
    "\n",
    "myFun('Hello', 'World', 'of', 'Pw skills')\n"
   ]
  },
  {
   "cell_type": "code",
   "execution_count": 17,
   "id": "54f464e4-b3cb-4c03-8b2f-efa665bc20da",
   "metadata": {},
   "outputs": [
    {
     "name": "stdout",
     "output_type": "stream",
     "text": [
      "first == PW\n",
      "mid == Skills\n",
      "last == Lab\n"
     ]
    }
   ],
   "source": [
    "def myFun(**kwargs):\n",
    "\tfor key, value in kwargs.items():\n",
    "\t\tprint(\"%s == %s\" % (key, value))\n",
    "\n",
    "\n",
    "myFun( first='PW', mid='Skills', last='Lab')\n"
   ]
  },
  {
   "cell_type": "markdown",
   "id": "9f7d5f33-0c2c-4f00-9e81-eb95e274ac35",
   "metadata": {},
   "source": [
    "## Q3. What is an iterator in python? Name the method used to initialise the iterator object and the method used for iteration. Use these methods to print the first five elements of the given list [2, 4, 6, 8, 10, 12, 14, 16, 18, 20]."
   ]
  },
  {
   "cell_type": "markdown",
   "id": "56419d8a-80f4-4121-90b1-de519901c1c6",
   "metadata": {},
   "source": [
    "Ans. An iterator is an object that contains a countable number of values. It can traverse through all the values. Technically, in Python, an iterator is an object which implements the iterator protocol, which consist of the methods __iter__() and __next__()."
   ]
  },
  {
   "cell_type": "markdown",
   "id": "16a6b908-8553-451f-9d0f-6111992cc65e",
   "metadata": {},
   "source": [
    "The method used in iterator object are consist of the methods __iter__() and __next__()."
   ]
  },
  {
   "cell_type": "code",
   "execution_count": 1,
   "id": "c7e1fbab-b778-401e-b858-831b106f0ced",
   "metadata": {},
   "outputs": [
    {
     "name": "stdout",
     "output_type": "stream",
     "text": [
      "2\n",
      "4\n",
      "6\n",
      "8\n",
      "10\n"
     ]
    }
   ],
   "source": [
    "nums = [2, 4, 6, 8, 10, 12, 14, 16, 18, 20]\n",
    "iterator = iter(nums) \n",
    "\n",
    "print(iterator.__next__()) \n",
    "print(iterator.__next__())\n",
    "print(iterator.__next__())\n",
    "print(iterator.__next__())\n",
    "print(iterator.__next__())"
   ]
  },
  {
   "cell_type": "markdown",
   "id": "89acd16d-6e19-41a6-aba2-45a44399661c",
   "metadata": {},
   "source": [
    "## Q4. What is a generator function in python? Why yield keyword is used? Give an example of a generator function."
   ]
  },
  {
   "cell_type": "markdown",
   "id": "52debc4e-3cd7-4a93-b0a6-7df8ee6a6249",
   "metadata": {},
   "source": [
    "Ans. Python Generator functions allow to declare a function that behaves likes an iterator, allowing programmers to make an iterator in a fast, easy, and clean way. An iterator is an object that can be iterated or looped upon. It is used to abstract a container of data to make it behave like an iterable object."
   ]
  },
  {
   "cell_type": "markdown",
   "id": "24da1788-97cf-4496-945d-d3b06045312a",
   "metadata": {},
   "source": [
    "yield keyword is used to create a generator function. A type of function that is memory efficient and can be used like an iterator object. In layman terms, the yield keyword will turn any expression that is given with it into a generator object and return it to the caller."
   ]
  },
  {
   "cell_type": "code",
   "execution_count": 4,
   "id": "d8a7b635-a1ba-4540-8657-119fa782c448",
   "metadata": {},
   "outputs": [
    {
     "name": "stdout",
     "output_type": "stream",
     "text": [
      "0\n",
      "1\n",
      "1\n",
      "2\n",
      "3\n",
      "5\n",
      "8\n",
      "13\n",
      "21\n",
      "34\n"
     ]
    }
   ],
   "source": [
    "# Example of generator function fibonacchi deries\n",
    "def test_fib(n):\n",
    "    a,b = 0,1\n",
    "    for i in range(n):\n",
    "        yield a\n",
    "        a,b = b,a+b\n",
    "for i in test_fib(10):\n",
    "    print(i)"
   ]
  },
  {
   "cell_type": "markdown",
   "id": "b9ec67cf-46f0-4cb6-993b-ad9ff71fc2b7",
   "metadata": {},
   "source": [
    "## Q5. Create a generator function for prime numbers less than 1000. Use the next() method to print the first 20 prime numbers."
   ]
  },
  {
   "cell_type": "code",
   "execution_count": 48,
   "id": "a89af7da-7bbc-4a32-875e-2f0e2a8a21bf",
   "metadata": {},
   "outputs": [
    {
     "name": "stdout",
     "output_type": "stream",
     "text": [
      "[2, 3, 5, 7, 11, 13, 17, 19, 23, 29, 31, 37, 41, 43, 47, 53, 59, 61, 67, 71, 73, 79, 83, 89, 97, 101, 103, 107, 109, 113, 127, 131, 137, 139, 149, 151, 157, 163, 167, 173, 179, 181, 191, 193, 197, 199, 211, 223, 227, 229, 233, 239, 241, 251, 257, 263, 269, 271, 277, 281, 283, 293, 307, 311, 313, 317, 331, 337, 347, 349, 353, 359, 367, 373, 379, 383, 389, 397, 401, 409, 419, 421, 431, 433, 439, 443, 449, 457, 461, 463, 467, 479, 487, 491, 499, 503, 509, 521, 523, 541, 547, 557, 563, 569, 571, 577, 587, 593, 599, 601, 607, 613, 617, 619, 631, 641, 643, 647, 653, 659, 661, 673, 677, 683, 691, 701, 709, 719, 727, 733, 739, 743, 751, 757, 761, 769, 773, 787, 797, 809, 811, 821, 823, 827, 829, 839, 853, 857, 859, 863, 877, 881, 883, 887, 907, 911, 919, 929, 937, 941, 947, 953, 967, 971, 977, 983, 991, 997]\n"
     ]
    }
   ],
   "source": [
    "def genprimes(n): \n",
    "    D = {}            \n",
    "    q = 2\n",
    "\n",
    "    while q <= n:\n",
    "        if q not in D:\n",
    "            yield q\n",
    "            D[q * q] = [q]\n",
    "        else:\n",
    "            for p in D[q]:\n",
    "                D.setdefault(p + q, []).append(p)\n",
    "            del D[q]\n",
    "        q += 1\n",
    "p = genprimes(1000)\n",
    "prms = [i for i in p]\n",
    "\n",
    "print (prms)"
   ]
  },
  {
   "cell_type": "code",
   "execution_count": 50,
   "id": "56c5dc86-87d9-4eaa-b9e7-98d0a9f22ea3",
   "metadata": {},
   "outputs": [
    {
     "name": "stdout",
     "output_type": "stream",
     "text": [
      "2\n",
      "3\n",
      "5\n",
      "7\n",
      "11\n",
      "13\n",
      "17\n",
      "19\n",
      "23\n",
      "29\n",
      "31\n",
      "37\n",
      "41\n",
      "43\n",
      "47\n",
      "53\n",
      "59\n",
      "61\n",
      "67\n",
      "71\n"
     ]
    }
   ],
   "source": [
    "iterator = iter(prms) \n",
    "\n",
    "print(iterator.__next__()) \n",
    "print(iterator.__next__())\n",
    "print(iterator.__next__())\n",
    "print(iterator.__next__())\n",
    "print(iterator.__next__())\n",
    "print(iterator.__next__()) \n",
    "print(iterator.__next__())\n",
    "print(iterator.__next__())\n",
    "print(iterator.__next__())\n",
    "print(iterator.__next__())\n",
    "print(iterator.__next__()) \n",
    "print(iterator.__next__())\n",
    "print(iterator.__next__())\n",
    "print(iterator.__next__())\n",
    "print(iterator.__next__())\n",
    "print(iterator.__next__()) \n",
    "print(iterator.__next__())\n",
    "print(iterator.__next__())\n",
    "print(iterator.__next__())\n",
    "print(iterator.__next__())"
   ]
  },
  {
   "cell_type": "code",
   "execution_count": null,
   "id": "7ccc1ee0-e29b-42a8-913b-fbbf106682f5",
   "metadata": {},
   "outputs": [],
   "source": []
  }
 ],
 "metadata": {
  "kernelspec": {
   "display_name": "Python 3 (ipykernel)",
   "language": "python",
   "name": "python3"
  },
  "language_info": {
   "codemirror_mode": {
    "name": "ipython",
    "version": 3
   },
   "file_extension": ".py",
   "mimetype": "text/x-python",
   "name": "python",
   "nbconvert_exporter": "python",
   "pygments_lexer": "ipython3",
   "version": "3.10.8"
  }
 },
 "nbformat": 4,
 "nbformat_minor": 5
}
