{
 "cells": [
  {
   "cell_type": "markdown",
   "id": "4a80f3c9-f726-4e71-904e-b3d2c070086a",
   "metadata": {},
   "source": [
    "## Consider the below code to answer further questions:\n",
    "## import numpy as np\n",
    "## list_ = [ ‘1’ , ’2’ , ‘3’ , ‘4’ , ‘5’ ]\n",
    "## array_list = np.array(object = list_)\n",
    "## Q1. Is there any difference in the data type of variables list_ and array_list? If there is then write a code\n",
    "## to print the data types of both the variables."
   ]
  },
  {
   "cell_type": "code",
   "execution_count": 2,
   "id": "a2e77564-a26a-4108-90f4-997bfde5dc64",
   "metadata": {},
   "outputs": [
    {
     "name": "stdout",
     "output_type": "stream",
     "text": [
      "The data type of ['1', '2', '3', '4', '5'] is <class 'list'>\n",
      "The data type of ['1' '2' '3' '4' '5'] is <class 'numpy.ndarray'>\n"
     ]
    }
   ],
   "source": [
    "import numpy as np\n",
    "list_ = [\"1\" , \"2\" , \"3\" , \"4\" , \"5\" ]\n",
    "array_list = np.array(object = list_)\n",
    "a = type(list_)\n",
    "b = type(array_list)\n",
    "print(f\"The data type of {list_} is {a}\")\n",
    "print(f\"The data type of {array_list} is {b}\")"
   ]
  },
  {
   "cell_type": "markdown",
   "id": "728da72d-4021-4686-927b-446def0b28de",
   "metadata": {},
   "source": [
    "## Q2. Write a code to print the data type of each and every element of both the variables list_ and arra_list."
   ]
  },
  {
   "cell_type": "code",
   "execution_count": 4,
   "id": "abb99f95-5a41-4a7a-982f-a1e0ce1afd83",
   "metadata": {},
   "outputs": [
    {
     "name": "stdout",
     "output_type": "stream",
     "text": [
      "The data type of 0 th element in the ['1', '2', '3', '4', '5'] is <class 'str'>\n",
      "The data type of 1 th element in the ['1', '2', '3', '4', '5'] is <class 'str'>\n",
      "The data type of 2 th element in the ['1', '2', '3', '4', '5'] is <class 'str'>\n",
      "The data type of 3 th element in the ['1', '2', '3', '4', '5'] is <class 'str'>\n",
      "The data type of 4 th element in the ['1', '2', '3', '4', '5'] is <class 'str'>\n",
      "The data type of 0 th element in the ['1' '2' '3' '4' '5'] is <class 'numpy.str_'>\n",
      "The data type of 1 th element in the ['1' '2' '3' '4' '5'] is <class 'numpy.str_'>\n",
      "The data type of 2 th element in the ['1' '2' '3' '4' '5'] is <class 'numpy.str_'>\n",
      "The data type of 3 th element in the ['1' '2' '3' '4' '5'] is <class 'numpy.str_'>\n",
      "The data type of 4 th element in the ['1' '2' '3' '4' '5'] is <class 'numpy.str_'>\n"
     ]
    }
   ],
   "source": [
    "list_ = [\"1\" , \"2\" , \"3\" , \"4\" , \"5\" ]\n",
    "array_list = np.array(object = list_)\n",
    "for i in list_:\n",
    "    print(f\"The data type of {list_.index(i)} th element in the {list_} is\",type(i))\n",
    "for j in array_list:\n",
    "    print(f\"The data type of {list(array_list).index(j)} th element in the {array_list} is\",type(j))"
   ]
  },
  {
   "cell_type": "markdown",
   "id": "6db2c1e3-40a4-4b3d-aed4-cfcc07c2b6d6",
   "metadata": {},
   "source": [
    "## Q3. Considering the following changes in the variable, array_list:\n",
    "## array_list = np.array(object = list_, dtype = int)\n",
    "## Will there be any difference in the data type of the elements present in both the variables, list_ and\n",
    "## arra_list? If so then print the data types of each and every element present in both the variables, list_\n",
    "## and arra_list.\n"
   ]
  },
  {
   "cell_type": "code",
   "execution_count": 5,
   "id": "b28e18cd-e350-4a13-97a6-94b1d4caee58",
   "metadata": {},
   "outputs": [
    {
     "name": "stdout",
     "output_type": "stream",
     "text": [
      "The data type of 0 th element in the ['1', '2', '3', '4', '5'] is <class 'str'>\n",
      "The data type of 1 th element in the ['1', '2', '3', '4', '5'] is <class 'str'>\n",
      "The data type of 2 th element in the ['1', '2', '3', '4', '5'] is <class 'str'>\n",
      "The data type of 3 th element in the ['1', '2', '3', '4', '5'] is <class 'str'>\n",
      "The data type of 4 th element in the ['1', '2', '3', '4', '5'] is <class 'str'>\n",
      "The data type of 0 th element in the [1 2 3 4 5] is <class 'numpy.int64'>\n",
      "The data type of 1 th element in the [1 2 3 4 5] is <class 'numpy.int64'>\n",
      "The data type of 2 th element in the [1 2 3 4 5] is <class 'numpy.int64'>\n",
      "The data type of 3 th element in the [1 2 3 4 5] is <class 'numpy.int64'>\n",
      "The data type of 4 th element in the [1 2 3 4 5] is <class 'numpy.int64'>\n"
     ]
    }
   ],
   "source": [
    "list_ = [\"1\" , \"2\" , \"3\" , \"4\" , \"5\" ]\n",
    "array_list = np.array(object = list_, dtype = int)\n",
    "for i in list_:\n",
    "    print(f\"The data type of {list_.index(i)} th element in the {list_} is\",type(i))\n",
    "for j in array_list:\n",
    "    print(f\"The data type of {list(array_list).index(j)} th element in the {array_list} is\",type(j))"
   ]
  },
  {
   "cell_type": "markdown",
   "id": "3f3e47d1-012e-4ccf-aa0a-28c5ce17fc4a",
   "metadata": {},
   "source": [
    "## Consider the below code to answer further questions:\n",
    "## import numpy as np\n",
    "## num_list = [ [ 1 , 2 , 3 ] , [ 4 , 5 , 6 ] ]\n",
    "## num_array = np.array(object = num_list)\n",
    "## Q4. Write a code to find the following characteristics of variable, num_array:\n",
    "## (i) shape\n",
    "## (ii) size"
   ]
  },
  {
   "cell_type": "code",
   "execution_count": 10,
   "id": "ea2ab3b6-b73c-4953-a038-ebf20aeb9fe1",
   "metadata": {},
   "outputs": [
    {
     "name": "stdout",
     "output_type": "stream",
     "text": [
      "The shape of the array [[1, 2, 3], [4, 5, 6]] is (2, 3)\n",
      "The size of the array [[1, 2, 3], [4, 5, 6]] is 6\n"
     ]
    }
   ],
   "source": [
    "import numpy as np\n",
    "num_list = [ [ 1 , 2 , 3 ] , [ 4 , 5 , 6 ] ]\n",
    "num_array = np.array(object = num_list)\n",
    "a = np.shape(num_list)\n",
    "b = np.size(num_list)\n",
    "print(f\"The shape of the array {num_list} is {a}\")\n",
    "print(f\"The size of the array {num_list} is {b}\")"
   ]
  },
  {
   "cell_type": "code",
   "execution_count": null,
   "id": "f48f2d08-2d40-491a-990d-d2713ec7f9cd",
   "metadata": {},
   "outputs": [],
   "source": []
  },
  {
   "cell_type": "markdown",
   "id": "41f4e934-839c-4f1a-adce-64064b529384",
   "metadata": {},
   "source": [
    "## Q5. Write a code to create numpy array of 3*3 matrix containing zeros only, using a numpy array creation function.\n",
    "[Hint: The size of the array will be 9 and the shape will be (3,3).]"
   ]
  },
  {
   "cell_type": "code",
   "execution_count": 17,
   "id": "eb251580-16f6-4183-a8ba-4cebe9f6095c",
   "metadata": {},
   "outputs": [
    {
     "data": {
      "text/plain": [
       "array([[0., 0., 0.],\n",
       "       [0., 0., 0.],\n",
       "       [0., 0., 0.]])"
      ]
     },
     "execution_count": 17,
     "metadata": {},
     "output_type": "execute_result"
    }
   ],
   "source": [
    "a = np.zeros((3,3))\n",
    "a"
   ]
  },
  {
   "cell_type": "code",
   "execution_count": null,
   "id": "6364a3d1-ad93-4a3e-b68c-dfe6b24374e4",
   "metadata": {},
   "outputs": [],
   "source": []
  },
  {
   "cell_type": "markdown",
   "id": "f317ee75-ea4f-48c1-a10b-ed5133283198",
   "metadata": {},
   "source": [
    "## Q6. Create an identity matrix of shape (5,5) using numpy functions?\n",
    "[Hint: An identity matrix is a matrix containing 1 diagonally and other elements will be 0.]"
   ]
  },
  {
   "cell_type": "code",
   "execution_count": 24,
   "id": "98a197c6-21ec-4647-875b-e59900cd9363",
   "metadata": {},
   "outputs": [
    {
     "data": {
      "text/plain": [
       "array([[1., 0., 0., 0., 0.],\n",
       "       [0., 1., 0., 0., 0.],\n",
       "       [0., 0., 1., 0., 0.],\n",
       "       [0., 0., 0., 1., 0.],\n",
       "       [0., 0., 0., 0., 1.]])"
      ]
     },
     "execution_count": 24,
     "metadata": {},
     "output_type": "execute_result"
    }
   ],
   "source": [
    "identity_matrix = np.identity(5)\n",
    "identity_matrix"
   ]
  },
  {
   "cell_type": "code",
   "execution_count": null,
   "id": "5979b86f-bdac-4f8f-ba6b-b5e22ce8fa13",
   "metadata": {},
   "outputs": [],
   "source": []
  }
 ],
 "metadata": {
  "kernelspec": {
   "display_name": "Python 3 (ipykernel)",
   "language": "python",
   "name": "python3"
  },
  "language_info": {
   "codemirror_mode": {
    "name": "ipython",
    "version": 3
   },
   "file_extension": ".py",
   "mimetype": "text/x-python",
   "name": "python",
   "nbconvert_exporter": "python",
   "pygments_lexer": "ipython3",
   "version": "3.10.8"
  }
 },
 "nbformat": 4,
 "nbformat_minor": 5
}
