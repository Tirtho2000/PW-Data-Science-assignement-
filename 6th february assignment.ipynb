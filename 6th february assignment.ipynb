{
 "cells": [
  {
   "cell_type": "markdown",
   "id": "53697e7f-25c4-4739-8bca-4cb9eb4a1562",
   "metadata": {},
   "source": [
    "## Q1. Create a function which will take a list as an argument and return the product of all the numbers after creating a flat list.\n",
    "## Use the below-given list as an argument for your function.\n",
    "\n",
    "\n",
    "## list1 = [1,2,3,4, [44,55,66, True], False, (34,56,78,89,34), {1,2,3,3,2,1}, {1:34, \"key2\": [55, 67, 78, 89], 4: (45,22, 61, 34)}, [56, 'data science'], 'Machine Learning']"
   ]
  },
  {
   "cell_type": "code",
   "execution_count": 12,
   "id": "e7c33118-0430-484e-b3dd-0cd2533e902a",
   "metadata": {},
   "outputs": [
    {
     "name": "stdout",
     "output_type": "stream",
     "text": [
      "The flat list is:  [1, 2, 3, 4, 44, 55, 66, True, False, 34, 56, 78, 89, 34, 1, 2, 3, 1, 'key2', 4, 55, 67, 78, 89, 45, 22, 61, 34, 56, 'data science', 'Machine Learning']\n",
      "1\n",
      "2\n",
      "6\n",
      "24\n",
      "1056\n",
      "58080\n",
      "3833280\n",
      "130331520\n",
      "7298565120\n",
      "569288079360\n",
      "50666639063040\n",
      "1722665728143360\n",
      "1722665728143360\n",
      "3445331456286720\n",
      "10335994368860160\n",
      "10335994368860160\n",
      "41343977475440640\n",
      "2273918761149235200\n",
      "152352556996998758400\n",
      "11883499445765903155200\n",
      "1057631450673165380812800\n",
      "47593415280292442136576000\n",
      "1047055136166433727004672000\n",
      "63870363306152457347284992000\n",
      "2171592352409183549807689728000\n",
      "121609171734914278789230624768000\n"
     ]
    }
   ],
   "source": [
    "def flat_list(l):\n",
    "        for el in l:\n",
    "            if isinstance(el, list):\n",
    "                for sub in el:\n",
    "                    yield sub\n",
    "            elif isinstance(el, tuple):\n",
    "                for sub in el:\n",
    "                    yield sub\n",
    "            elif isinstance(el, set):\n",
    "                for sub in el:\n",
    "                    yield sub\n",
    "            elif isinstance(el, dict):\n",
    "                for value in el.values():\n",
    "                    if isinstance(value, list):\n",
    "                        for sub in value:\n",
    "                            yield sub\n",
    "                    elif isinstance(value, tuple):\n",
    "                        for sub in value:\n",
    "                            yield sub\n",
    "                    elif isinstance(el, int) or isinstance(el, float):\n",
    "                        yield el\n",
    "                    elif isinstance(el, dict):\n",
    "                        for valu in el:\n",
    "                            yield valu\n",
    "            elif isinstance(el, int) or isinstance(el, float) or isinstance(el, str):\n",
    "                yield el\n",
    "list1 = [1,2,3,4, [44,55,66, True],False, (34,56,78,89,34), {1,2,3,3,2,1}, {1:34, \"key2\": [55, 67, 78, 89], 4: (45, 22, 61, 34)}, [56, \"data science\"], 'Machine Learning']\n",
    "print(\"The flat list is: \",list(flat_list(list1)))\n",
    "a= list(flat_list(list1))\n",
    "\n",
    "product = 1\n",
    "for ele in a:\n",
    "    if type(ele)== int :\n",
    "        product *= ele\n",
    "        print(product)\n",
    "    else:(\"\")"
   ]
  },
  {
   "cell_type": "markdown",
   "id": "8abad423-ea3b-45cf-b8f5-9ad598a30d2e",
   "metadata": {},
   "source": [
    "## Q2. Write a python program for encrypting a message sent to you by your friend. The logic of encryption should be such that, for a the output should be z. For b, the output should be y. For c, the output should be x respectively. Also, the whitespace should be replaced with a dollar sign. Keep the punctuation marks unchanged.\n",
    "## Input Sentence: I want to become a Data Scientist.\n",
    "## Encrypt the above input sentence using the program you just created.\n",
    "## Note: Convert the given input sentence into lowercase before encrypting. The final output should be lowercase."
   ]
  },
  {
   "cell_type": "code",
   "execution_count": 33,
   "id": "66164714-1d84-4b00-aaae-3300390ab4ae",
   "metadata": {},
   "outputs": [],
   "source": [
    "def encrypt(message):\n",
    "    encrypted = \"\"\n",
    "    message = message.lower()\n",
    "    for char in message:\n",
    "        if char.isalpha():\n",
    "            reverse_char = chr(219 - ord(char))\n",
    "            encrypted += reverse_char\n",
    "        elif char.isspace():\n",
    "            encrypted += \"$\"\n",
    "        else:\n",
    "            encrypted += char\n",
    "    return encrypted"
   ]
  },
  {
   "cell_type": "code",
   "execution_count": 34,
   "id": "3429f2bc-d51a-4979-bac9-3e928bfdcfc2",
   "metadata": {},
   "outputs": [
    {
     "name": "stdout",
     "output_type": "stream",
     "text": [
      "r$dzmg$gl$yvxlnv$z$wzgz$hxrvmgrhg.\n"
     ]
    }
   ],
   "source": [
    "message = \"I want to become a Data Scientist.\"\n",
    "\n",
    "encrypted_message = encrypt(message)\n",
    "print(encrypted_message)"
   ]
  },
  {
   "cell_type": "code",
   "execution_count": null,
   "id": "1abbc163-140a-456a-b337-e204e86082de",
   "metadata": {},
   "outputs": [],
   "source": []
  }
 ],
 "metadata": {
  "kernelspec": {
   "display_name": "Python 3 (ipykernel)",
   "language": "python",
   "name": "python3"
  },
  "language_info": {
   "codemirror_mode": {
    "name": "ipython",
    "version": 3
   },
   "file_extension": ".py",
   "mimetype": "text/x-python",
   "name": "python",
   "nbconvert_exporter": "python",
   "pygments_lexer": "ipython3",
   "version": "3.10.8"
  }
 },
 "nbformat": 4,
 "nbformat_minor": 5
}
