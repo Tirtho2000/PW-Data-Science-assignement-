{
 "cells": [
  {
   "cell_type": "markdown",
   "id": "36ab80ea-8815-405b-8402-b4cee4c58784",
   "metadata": {},
   "source": [
    "## Q1. What is an Exception in python? Write the difference between Exceptions and Syntax errors."
   ]
  },
  {
   "cell_type": "markdown",
   "id": "62e47636-625e-4b7f-8e2a-fab6c6565e1e",
   "metadata": {},
   "source": [
    "An exception is an event, which occurs during the execution of a program that disrupts the normal flow of the program's instructions. In general, when a Python script encounters a situation that it cannot cope with, it raises an exception. An exception is a Python object that represents an error."
   ]
  },
  {
   "cell_type": "markdown",
   "id": "87714031-3110-4aed-b56d-19c6fb175223",
   "metadata": {},
   "source": [
    "The error implies a problem that mostly arises due to the shortage of system resources. On the other hand, the exceptions occur during runtime and compile time.\n",
    "Errors cannot be handled, while Python exceptions can be handled at the run time. An error can be a syntax (parsing) error, while there can be many types of exceptions that could occur during the execution and are not unconditionally inoperable."
   ]
  },
  {
   "cell_type": "markdown",
   "id": "d7400025-35ee-4655-8513-8cc5c45e5ea0",
   "metadata": {},
   "source": [
    "## Q2. What happens when an exception is not handled? Explain with an example."
   ]
  },
  {
   "cell_type": "markdown",
   "id": "8f0650c1-efa5-4e5b-b6d9-596f233788a6",
   "metadata": {},
   "source": [
    "If an exception is not caught (with a catch block), the runtime system will abort the program (i.e. crash) and an exception message will print to the console."
   ]
  },
  {
   "cell_type": "code",
   "execution_count": 3,
   "id": "4e3916ac-bc35-4255-a38a-e2584c08293a",
   "metadata": {},
   "outputs": [
    {
     "ename": "FileNotFoundError",
     "evalue": "[Errno 2] No such file or directory: 'test.txt'",
     "output_type": "error",
     "traceback": [
      "\u001b[0;31m---------------------------------------------------------------------------\u001b[0m",
      "\u001b[0;31mFileNotFoundError\u001b[0m                         Traceback (most recent call last)",
      "Cell \u001b[0;32mIn[3], line 2\u001b[0m\n\u001b[1;32m      1\u001b[0m \u001b[38;5;66;03m# Example of an exception is not handled\u001b[39;00m\n\u001b[0;32m----> 2\u001b[0m f\u001b[38;5;241m=\u001b[39m \u001b[38;5;28;43mopen\u001b[39;49m\u001b[43m(\u001b[49m\u001b[38;5;124;43m\"\u001b[39;49m\u001b[38;5;124;43mtest.txt\u001b[39;49m\u001b[38;5;124;43m\"\u001b[39;49m\u001b[43m,\u001b[49m\u001b[38;5;124;43m\"\u001b[39;49m\u001b[38;5;124;43mr\u001b[39;49m\u001b[38;5;124;43m\"\u001b[39;49m\u001b[43m)\u001b[49m\n\u001b[1;32m      3\u001b[0m \u001b[38;5;28mprint\u001b[39m(\u001b[38;5;124m\"\u001b[39m\u001b[38;5;124mHere exception is not handled so it shows an error\u001b[39m\u001b[38;5;124m\"\u001b[39m)\n",
      "File \u001b[0;32m/opt/conda/lib/python3.10/site-packages/IPython/core/interactiveshell.py:282\u001b[0m, in \u001b[0;36m_modified_open\u001b[0;34m(file, *args, **kwargs)\u001b[0m\n\u001b[1;32m    275\u001b[0m \u001b[38;5;28;01mif\u001b[39;00m file \u001b[38;5;129;01min\u001b[39;00m {\u001b[38;5;241m0\u001b[39m, \u001b[38;5;241m1\u001b[39m, \u001b[38;5;241m2\u001b[39m}:\n\u001b[1;32m    276\u001b[0m     \u001b[38;5;28;01mraise\u001b[39;00m \u001b[38;5;167;01mValueError\u001b[39;00m(\n\u001b[1;32m    277\u001b[0m         \u001b[38;5;124mf\u001b[39m\u001b[38;5;124m\"\u001b[39m\u001b[38;5;124mIPython won\u001b[39m\u001b[38;5;124m'\u001b[39m\u001b[38;5;124mt let you open fd=\u001b[39m\u001b[38;5;132;01m{\u001b[39;00mfile\u001b[38;5;132;01m}\u001b[39;00m\u001b[38;5;124m by default \u001b[39m\u001b[38;5;124m\"\u001b[39m\n\u001b[1;32m    278\u001b[0m         \u001b[38;5;124m\"\u001b[39m\u001b[38;5;124mas it is likely to crash IPython. If you know what you are doing, \u001b[39m\u001b[38;5;124m\"\u001b[39m\n\u001b[1;32m    279\u001b[0m         \u001b[38;5;124m\"\u001b[39m\u001b[38;5;124myou can use builtins\u001b[39m\u001b[38;5;124m'\u001b[39m\u001b[38;5;124m open.\u001b[39m\u001b[38;5;124m\"\u001b[39m\n\u001b[1;32m    280\u001b[0m     )\n\u001b[0;32m--> 282\u001b[0m \u001b[38;5;28;01mreturn\u001b[39;00m \u001b[43mio_open\u001b[49m\u001b[43m(\u001b[49m\u001b[43mfile\u001b[49m\u001b[43m,\u001b[49m\u001b[43m \u001b[49m\u001b[38;5;241;43m*\u001b[39;49m\u001b[43margs\u001b[49m\u001b[43m,\u001b[49m\u001b[43m \u001b[49m\u001b[38;5;241;43m*\u001b[39;49m\u001b[38;5;241;43m*\u001b[39;49m\u001b[43mkwargs\u001b[49m\u001b[43m)\u001b[49m\n",
      "\u001b[0;31mFileNotFoundError\u001b[0m: [Errno 2] No such file or directory: 'test.txt'"
     ]
    }
   ],
   "source": [
    "# Example of an exception is not handled\n",
    "f= open(\"test.txt\",\"r\")\n",
    "print(\"Here exception is not handled so it shows an error\")"
   ]
  },
  {
   "cell_type": "markdown",
   "id": "d613c6fd-79bd-44f1-b809-af5bd1f65eed",
   "metadata": {},
   "source": [
    "Here test.txt file is not exist so when we run the programme the system shows an error and the next statement does not run although the next statement is correct"
   ]
  },
  {
   "cell_type": "markdown",
   "id": "26ba1ce5-6227-4fff-a2a4-36b36b5ed328",
   "metadata": {},
   "source": [
    "## Q3. Which Python statements are used to catch and handle exceptions? Explain with an example."
   ]
  },
  {
   "cell_type": "markdown",
   "id": "afe239ae-fc00-41de-8a65-6e8f0b9b1b05",
   "metadata": {},
   "source": [
    "The try and except block in Python is used to catch and handle exceptions. Python executes code following the try statement as a “normal” part of the program. The code that follows the except statement is the program's response to any exceptions in the preceding try clause."
   ]
  },
  {
   "cell_type": "code",
   "execution_count": 5,
   "id": "c64f8353-ecd6-49bd-aef7-90f073f06ba0",
   "metadata": {},
   "outputs": [
    {
     "name": "stdout",
     "output_type": "stream",
     "text": [
      "there is some issue with my code [Errno 2] No such file or directory: 'test.txt'\n",
      "code is here\n"
     ]
    }
   ],
   "source": [
    "# example of an exception handling\n",
    "try:\n",
    "    f= open(\"test.txt\",\"r\")\n",
    "except Exception as e:\n",
    "    print(\"there is some issue with my code\",e)\n",
    "print(\"code is here\")"
   ]
  },
  {
   "cell_type": "markdown",
   "id": "1145b86e-0abc-409d-870e-28f79c1b0be5",
   "metadata": {},
   "source": [
    "## Q4. Explain with an example:\n",
    "\n",
    "## a. try and else \n",
    "## b. finally\n",
    "## c. raise"
   ]
  },
  {
   "cell_type": "code",
   "execution_count": 6,
   "id": "ca230657-52ff-4c67-8698-91309c3976e9",
   "metadata": {},
   "outputs": [
    {
     "name": "stdout",
     "output_type": "stream",
     "text": [
      "this block will execute once try will execute itself without an exception\n"
     ]
    }
   ],
   "source": [
    "# Example of try and else\n",
    "try:\n",
    "    f= open(\"test.txt\",\"w\")\n",
    "    f.write(\"this is my message\")\n",
    "    \n",
    "except Exception as e:\n",
    "    print(\"there is some issue with my code\",e)\n",
    "else:\n",
    "    f.close()\n",
    "    print(\"this block will execute once try will execute itself without an exception\")"
   ]
  },
  {
   "cell_type": "code",
   "execution_count": 7,
   "id": "1c43ce84-4f89-4f92-8da0-42dec08bcee5",
   "metadata": {},
   "outputs": [
    {
     "name": "stdout",
     "output_type": "stream",
     "text": [
      "there is some issue with my code [Errno 2] No such file or directory: 'test1.txt'\n",
      "i will execute always\n"
     ]
    }
   ],
   "source": [
    "# Example of finally\n",
    "try:\n",
    "    f= open(\"test1.txt\",\"r\")\n",
    "    f.write(\"this is my message\")\n",
    "    \n",
    "except Exception as e:\n",
    "    print(\"there is some issue with my code\",e)\n",
    "finally:\n",
    "    print(\"i will execute always\")"
   ]
  },
  {
   "cell_type": "code",
   "execution_count": 10,
   "id": "8429b439-d557-483a-9f4f-5d7b85a8aec4",
   "metadata": {},
   "outputs": [
    {
     "name": "stdin",
     "output_type": "stream",
     "text": [
      "enter your age -858\n"
     ]
    },
    {
     "name": "stdout",
     "output_type": "stream",
     "text": [
      "age should not be lesser than zero\n"
     ]
    }
   ],
   "source": [
    "# Example of raise\n",
    "class validateage(Exception) :\n",
    "    def __init__(self,msg):\n",
    "        self.msg = msg\n",
    "def validate_age (age):\n",
    "    if age< 0:\n",
    "        raise validateage(\"age should not be lesser than zero\")\n",
    "    elif age > 200:\n",
    "        raise validateage(\"age is too high\")\n",
    "    else:\n",
    "        print(\"age is valid\")\n",
    "try:\n",
    "    age = int(input(\"enter your age\"))\n",
    "    validate_age(age)\n",
    "except validateage as e:\n",
    "    print(e)"
   ]
  },
  {
   "cell_type": "markdown",
   "id": "bf04d796-886d-46c3-aad7-93b52632bba4",
   "metadata": {},
   "source": [
    "## Q5. What are Custom Exceptions in python? Why do we need Custom Exceptions? Explain with an example."
   ]
  },
  {
   "cell_type": "markdown",
   "id": "d7a9ae84-c682-4ef5-9cc6-3b06837e0186",
   "metadata": {},
   "source": [
    "In Python, we can define custom exceptions by creating a new class that is derived from the built-in Exception class. Here's the syntax to define custom exceptions, class CustomError(Exception): "
   ]
  },
  {
   "cell_type": "markdown",
   "id": "cc2d5261-4630-4c6d-904c-aaf7596c3d43",
   "metadata": {},
   "source": [
    "Custom exceptions provide the flexibility to add attributes and methods that are not part of a standard python exception. These can store additional information, like an application-specific error code, or provide utility methods that can be used to handle or present the exception to a user."
   ]
  },
  {
   "cell_type": "code",
   "execution_count": 11,
   "id": "d4d33ff4-6570-49ab-b865-1b2c78014398",
   "metadata": {},
   "outputs": [
    {
     "name": "stdin",
     "output_type": "stream",
     "text": [
      "enter your age 565\n"
     ]
    },
    {
     "name": "stdout",
     "output_type": "stream",
     "text": [
      "age is too high\n"
     ]
    }
   ],
   "source": [
    "# Example of custom exception\n",
    "class validateage(Exception) :\n",
    "    def __init__(self,msg):\n",
    "        self.msg = msg\n",
    "def validate_age (age):\n",
    "    if age< 0:\n",
    "        raise validateage(\"age should not be lesser than zero\")\n",
    "    elif age > 200:\n",
    "        raise validateage(\"age is too high\")\n",
    "    else:\n",
    "        print(\"age is valid\")\n",
    "try:\n",
    "    age = int(input(\"enter your age\"))\n",
    "    validate_age(age)\n",
    "except validateage as e:\n",
    "    print(e)"
   ]
  },
  {
   "cell_type": "markdown",
   "id": "a7281944-b963-4cc9-a9e0-52c2830978e8",
   "metadata": {},
   "source": [
    "Here we take input from the user. Lets say we take age as the input. Now the user can give any number as an age it can be positive or negative but reality age cannot be negative and if the user give this negative input as input without giving any errors. So we have to give custom exception for this like age cannot be negative and cannot be too high like that."
   ]
  },
  {
   "cell_type": "markdown",
   "id": "ff72764e-c606-4eda-bcb1-6e90477285dc",
   "metadata": {},
   "source": [
    "## Q6. Create a custom exception class. Use this class to handle an exception."
   ]
  },
  {
   "cell_type": "markdown",
   "id": "09cc394f-ff56-43f9-be86-3be5af34d4c8",
   "metadata": {},
   "source": [
    "Here we are creating a custom exception class validateage(Exception):\n",
    "and with that we are handling an exception."
   ]
  },
  {
   "cell_type": "code",
   "execution_count": 13,
   "id": "451ab319-744a-43f3-9991-1d20012bcda5",
   "metadata": {},
   "outputs": [
    {
     "name": "stdin",
     "output_type": "stream",
     "text": [
      "enter your age 65\n"
     ]
    },
    {
     "name": "stdout",
     "output_type": "stream",
     "text": [
      "age is valid\n"
     ]
    }
   ],
   "source": [
    "# Example of custom exception\n",
    "class validateage(Exception) :\n",
    "    def __init__(self,msg):\n",
    "        self.msg = msg\n",
    "def validate_age (age):\n",
    "    if age< 0:\n",
    "        raise validateage(\"age should not be lesser than zero\")\n",
    "    elif age > 200:\n",
    "        raise validateage(\"age is too high\")\n",
    "    else:\n",
    "        print(\"age is valid\")\n",
    "try:\n",
    "    age = int(input(\"enter your age\"))\n",
    "    validate_age(age)\n",
    "except validateage as e:\n",
    "    print(e)"
   ]
  }
 ],
 "metadata": {
  "kernelspec": {
   "display_name": "Python 3 (ipykernel)",
   "language": "python",
   "name": "python3"
  },
  "language_info": {
   "codemirror_mode": {
    "name": "ipython",
    "version": 3
   },
   "file_extension": ".py",
   "mimetype": "text/x-python",
   "name": "python",
   "nbconvert_exporter": "python",
   "pygments_lexer": "ipython3",
   "version": "3.10.8"
  }
 },
 "nbformat": 4,
 "nbformat_minor": 5
}
